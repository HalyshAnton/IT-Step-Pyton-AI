{
  "nbformat": 4,
  "nbformat_minor": 0,
  "metadata": {
    "colab": {
      "provenance": [],
      "authorship_tag": "ABX9TyPRuq2C0cxr9QLhPlXFXE9e",
      "include_colab_link": true
    },
    "kernelspec": {
      "name": "python3",
      "display_name": "Python 3"
    },
    "language_info": {
      "name": "python"
    }
  },
  "cells": [
    {
      "cell_type": "markdown",
      "metadata": {
        "id": "view-in-github",
        "colab_type": "text"
      },
      "source": [
        "<a href=\"https://colab.research.google.com/github/HalyshAnton/IT-Step-Pyton-AI/blob/main/module5/%D0%94%D0%97_16.ipynb\" target=\"_parent\"><img src=\"https://colab.research.google.com/assets/colab-badge.svg\" alt=\"Open In Colab\"/></a>"
      ]
    },
    {
      "cell_type": "markdown",
      "source": [
        "[Посилання на датасет](https://www.kaggle.com/datasets/sshikamaru/fruit-recognition)"
      ],
      "metadata": {
        "id": "tcngeTvWJXo9"
      }
    },
    {
      "cell_type": "markdown",
      "source": [
        "# Завдання:\n",
        "\n",
        "* На основі `train_dataset` та `test_dataset` з попереднього завдання створити `train_loader` та `test_loader`\n",
        "* Створити згорткову нейромережу:\n",
        "  * розмір фільтрів - 3\n",
        "  * MaxPooling - kernel_size=2, stride=2\n",
        "  * можете змінити розмір зображення в transformer до 64\n",
        "* Виведіть confussion matrix та основні метрики\n",
        "* Збережіть `kaggle notebook` для подальшої роботи"
      ],
      "metadata": {
        "id": "_XM4E8vNJidY"
      }
    },
    {
      "cell_type": "markdown",
      "source": [
        "Код для зміни трансформера"
      ],
      "metadata": {
        "id": "5akZaFyqPPe_"
      }
    },
    {
      "cell_type": "code",
      "source": [
        "train_transform = transforms.Compose([\n",
        "    transforms.Resize((256, 256)), # Зміна розміру зображення до 256x256 пікселів\n",
        "    transforms.RandomHorizontalFlip(p=0.5), # Випадково перевернути по горизонталі з ймовірністю 50%\n",
        "    transforms.ToTensor(), # Перетворити зображення у тензори PyTorch\n",
        "])\n",
        "\n",
        "test_transform = transforms.Compose([\n",
        "    transforms.Resize((256, 256)), # Зміна розміру зображення до 256x256 пікселів\n",
        "    transforms.ToTensor(), # Перетворити зображення у тензори PyTorch\n",
        "])\n",
        "\n",
        "\n",
        "class TransformDataset(torch.utils.data.Dataset):\n",
        "    def __init__(self, subset, transform=None):\n",
        "        self.subset = subset\n",
        "        self.transform = transform\n",
        "\n",
        "    def __getitem__(self, index):\n",
        "        x, y = self.subset[index]\n",
        "        if self.transform:\n",
        "            x = self.transform(x)\n",
        "        return x, y\n",
        "\n",
        "    def __len__(self):\n",
        "        return len(self.subset)\n",
        "\n",
        "\n",
        "train_data = TransformDataset(train_data, transform = train_transform)\n",
        "val_data = TransformDataset(val_data, transform = test_transform)"
      ],
      "metadata": {
        "id": "4BlrR7lIOYgI"
      },
      "execution_count": null,
      "outputs": []
    }
  ]
}