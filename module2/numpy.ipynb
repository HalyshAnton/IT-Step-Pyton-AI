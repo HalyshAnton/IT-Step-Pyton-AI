{
  "cells": [
    {
      "cell_type": "markdown",
      "metadata": {
        "id": "view-in-github",
        "colab_type": "text"
      },
      "source": [
        "<a href=\"https://colab.research.google.com/github/HalyshAnton/IT-Step-Pyton-AI/blob/main/module2/numpy.ipynb\" target=\"_parent\"><img src=\"https://colab.research.google.com/assets/colab-badge.svg\" alt=\"Open In Colab\"/></a>"
      ]
    },
    {
      "cell_type": "markdown",
      "metadata": {
        "id": "d6a48233-0736-4791-ab09-b9e432700780"
      },
      "source": [
        "# Аналіз даних"
      ],
      "id": "d6a48233-0736-4791-ab09-b9e432700780"
    },
    {
      "cell_type": "markdown",
      "metadata": {
        "id": "2f8f08d0-ee5d-4c3f-af38-60f72d0cc790"
      },
      "source": [
        "\n",
        "**Матеріали**:\n",
        "\n",
        "-   Корисні матеріали по numpy із зображеннями [A Visual Intro to NumPy](http://jalammar.github.io/visual-numpy/).\n"
      ],
      "id": "2f8f08d0-ee5d-4c3f-af38-60f72d0cc790"
    },
    {
      "cell_type": "markdown",
      "metadata": {
        "id": "bf02826b-e527-43b4-a42d-1577c070e3ba"
      },
      "source": [
        "## Numpy"
      ],
      "id": "bf02826b-e527-43b4-a42d-1577c070e3ba"
    },
    {
      "cell_type": "markdown",
      "metadata": {
        "id": "b4cf4645-5505-4059-87fe-1c9c6052958f"
      },
      "source": [
        "Numpy це модуль мови Python для швидких математичних обчислень. Він дозволяє створювати та обробляти масиви даних високих розмірностей."
      ],
      "id": "b4cf4645-5505-4059-87fe-1c9c6052958f"
    },
    {
      "cell_type": "markdown",
      "metadata": {
        "id": "61e9f793-d834-4362-bd11-47754caa6fd0"
      },
      "source": [
        "Щоб використовувати `numpy`, нам спочатку потрібно імпортувати пакет numpy. За домовленістю ми імпортуємо його за допомогою псевдоніма `np`. Тоді, коли ми хочемо використовувати модулі або функції в цій бібліотеці, ми перед ними ставимо `np`."
      ],
      "id": "61e9f793-d834-4362-bd11-47754caa6fd0"
    },
    {
      "cell_type": "code",
      "execution_count": 2,
      "metadata": {
        "id": "03ba5ce8-938d-4219-8237-3e08291c2318"
      },
      "outputs": [],
      "source": [
        "import numpy as np"
      ],
      "id": "03ba5ce8-938d-4219-8237-3e08291c2318"
    },
    {
      "cell_type": "markdown",
      "metadata": {
        "id": "190fe0ab-4ee6-459d-8492-c816258b0286"
      },
      "source": [
        "### Масиви"
      ],
      "id": "190fe0ab-4ee6-459d-8492-c816258b0286"
    },
    {
      "cell_type": "markdown",
      "metadata": {
        "id": "b86ed7e5-47cf-4dbc-a950-8d6b3ad52f57"
      },
      "source": [
        "Масив numpy — це сітка однотипних значень. Кожен елемент індексується декількома числами, в залежності від розмірності масиву."
      ],
      "id": "b86ed7e5-47cf-4dbc-a950-8d6b3ad52f57"
    },
    {
      "cell_type": "markdown",
      "metadata": {
        "id": "0964684d-78c5-4619-8145-d224cffb1d8a"
      },
      "source": [
        "Створення на основі списків"
      ],
      "id": "0964684d-78c5-4619-8145-d224cffb1d8a"
    },
    {
      "cell_type": "code",
      "execution_count": 3,
      "metadata": {
        "id": "8e173212-5a79-437b-a7b6-5346e439de82"
      },
      "outputs": [],
      "source": [
        "a = np.array([1, 2, 3])  # одновимірний масив"
      ],
      "id": "8e173212-5a79-437b-a7b6-5346e439de82"
    },
    {
      "cell_type": "markdown",
      "metadata": {
        "id": "eb5aac84-6891-446a-9a67-d5f4309f2ba6"
      },
      "source": [
        "\n",
        "\n",
        "![](http://jalammar.github.io/images/numpy/create-numpy-array-1.png)"
      ],
      "id": "eb5aac84-6891-446a-9a67-d5f4309f2ba6"
    },
    {
      "cell_type": "code",
      "execution_count": 4,
      "metadata": {
        "id": "a5dd201a-213d-417a-8542-e32ceb55a687",
        "outputId": "30ee7332-7ad5-45ec-d797-c29d17bb7815",
        "colab": {
          "base_uri": "https://localhost:8080/"
        }
      },
      "outputs": [
        {
          "output_type": "stream",
          "name": "stdout",
          "text": [
            "<class 'numpy.ndarray'> (3,) 1 2 3\n",
            "[5 2 3]\n"
          ]
        }
      ],
      "source": [
        "print(type(a), a.shape, a[0], a[1], a[2])\n",
        "a[0] = 5\n",
        "print(a)"
      ],
      "id": "a5dd201a-213d-417a-8542-e32ceb55a687"
    },
    {
      "cell_type": "markdown",
      "metadata": {
        "id": "234030fa-8140-4f6e-8b8e-2a94ad931778"
      },
      "source": [
        "Можна створювати масиви багатьох розмірностей\n",
        "\n",
        "![](http://jalammar.github.io/images/numpy/numpy-array-create-2d.png)\n",
        "\n",
        "![](http://jalammar.github.io/images/numpy/numpy-3d-array.png)"
      ],
      "id": "234030fa-8140-4f6e-8b8e-2a94ad931778"
    },
    {
      "cell_type": "code",
      "execution_count": 5,
      "metadata": {
        "id": "3ff3db12-c0d1-4895-8ba7-200bbdf41d0f",
        "outputId": "055a0004-7af0-4bf1-a416-163280957496",
        "colab": {
          "base_uri": "https://localhost:8080/"
        }
      },
      "outputs": [
        {
          "output_type": "stream",
          "name": "stdout",
          "text": [
            "[[1 2]\n",
            " [3 4]]\n"
          ]
        }
      ],
      "source": [
        "b = np.array([[1,2],[3,4]])   # двовимірний масив\n",
        "print(b)"
      ],
      "id": "3ff3db12-c0d1-4895-8ba7-200bbdf41d0f"
    },
    {
      "cell_type": "code",
      "execution_count": 6,
      "metadata": {
        "id": "3898a66e-cde5-4749-980c-f72e5e453a10",
        "outputId": "79bd2219-66b3-4336-9011-626e3086159b",
        "colab": {
          "base_uri": "https://localhost:8080/"
        }
      },
      "outputs": [
        {
          "output_type": "stream",
          "name": "stdout",
          "text": [
            "(2, 2)\n"
          ]
        }
      ],
      "source": [
        "print(b.shape)"
      ],
      "id": "3898a66e-cde5-4749-980c-f72e5e453a10"
    },
    {
      "cell_type": "markdown",
      "metadata": {
        "id": "59994140-982d-44d4-b735-c368cf11ab8c"
      },
      "source": [
        "Часто бувають випадки, коли ми хочемо, щоб numpy ініціалізував для нас значення масиву. numpy надає такі методи, як `ones()`, `zeros()` і `random.random()` для цих випадків. Ми просто передаємо їм ту кількість елементів, яку ми хочемо створити\n",
        "\n",
        "![](http://jalammar.github.io/images/numpy/create-numpy-array-ones-zeros-random.png)"
      ],
      "id": "59994140-982d-44d4-b735-c368cf11ab8c"
    },
    {
      "cell_type": "markdown",
      "metadata": {
        "id": "f5cd30f4-91ac-421a-b25a-8cfbddb518c7"
      },
      "source": [
        "Ми також можемо використовувати ці методи для створення багатовимірних масивів, якщо ми передаємо їм кортеж, що описує розміри матриці, яку ми хочемо створити:\n",
        "\n",
        "![](http://jalammar.github.io/images/numpy/numpy-matrix-ones-zeros-random.png)\n",
        "\n",
        "![](http://jalammar.github.io/images/numpy/numpy-3d-array-creation.png)"
      ],
      "id": "f5cd30f4-91ac-421a-b25a-8cfbddb518c7"
    },
    {
      "cell_type": "code",
      "execution_count": 7,
      "metadata": {
        "id": "61dddfaf-a5eb-4d3d-a59d-85ea7e18d71a",
        "outputId": "e474feee-8ac0-42c5-f9b0-dfae82478bba",
        "colab": {
          "base_uri": "https://localhost:8080/"
        }
      },
      "outputs": [
        {
          "output_type": "stream",
          "name": "stdout",
          "text": [
            "[[0. 0.]\n",
            " [0. 0.]]\n"
          ]
        }
      ],
      "source": [
        "a = np.zeros((2,2))  # Create an array of all zeros\n",
        "print(a)"
      ],
      "id": "61dddfaf-a5eb-4d3d-a59d-85ea7e18d71a"
    },
    {
      "cell_type": "code",
      "execution_count": 8,
      "metadata": {
        "id": "aab64565-d940-42ae-915b-58c564384d48",
        "outputId": "8222bcb2-5695-468d-b110-67f878a0f908",
        "colab": {
          "base_uri": "https://localhost:8080/"
        }
      },
      "outputs": [
        {
          "output_type": "stream",
          "name": "stdout",
          "text": [
            "[[1. 1.]]\n"
          ]
        }
      ],
      "source": [
        "b = np.ones((1,2))   # Create an array of all ones\n",
        "print(b)"
      ],
      "id": "aab64565-d940-42ae-915b-58c564384d48"
    },
    {
      "cell_type": "code",
      "execution_count": 9,
      "metadata": {
        "id": "121ece5c-b965-44a1-9643-44c4b29e1c5a",
        "outputId": "ee69238d-bef1-41b8-f02b-92f2599a8ba1",
        "colab": {
          "base_uri": "https://localhost:8080/"
        }
      },
      "outputs": [
        {
          "output_type": "stream",
          "name": "stdout",
          "text": [
            "[[7 7]\n",
            " [7 7]]\n"
          ]
        }
      ],
      "source": [
        "c = np.full((2,2), 7) # Create a constant array\n",
        "print(c)"
      ],
      "id": "121ece5c-b965-44a1-9643-44c4b29e1c5a"
    },
    {
      "cell_type": "code",
      "execution_count": 10,
      "metadata": {
        "id": "70627e5f-197d-46cf-984e-dfba32277650",
        "outputId": "da273c56-86ac-4ecf-c5d2-d9255669380a",
        "colab": {
          "base_uri": "https://localhost:8080/"
        }
      },
      "outputs": [
        {
          "output_type": "stream",
          "name": "stdout",
          "text": [
            "[[1. 0.]\n",
            " [0. 1.]]\n"
          ]
        }
      ],
      "source": [
        "d = np.eye(2)        # Create a 2x2 identity matrix\n",
        "print(d)"
      ],
      "id": "70627e5f-197d-46cf-984e-dfba32277650"
    },
    {
      "cell_type": "code",
      "execution_count": 11,
      "metadata": {
        "id": "6f0c09f0-3894-47fd-a349-4ecc04fb9aad",
        "outputId": "ee160a2a-578e-4349-da97-da8becb4ac4d",
        "colab": {
          "base_uri": "https://localhost:8080/"
        }
      },
      "outputs": [
        {
          "output_type": "stream",
          "name": "stdout",
          "text": [
            "[[0.339443   0.69049703]\n",
            " [0.43957987 0.10161486]]\n"
          ]
        }
      ],
      "source": [
        "e = np.random.random((2,2)) # Create an array filled with random values\n",
        "print(e)"
      ],
      "id": "6f0c09f0-3894-47fd-a349-4ecc04fb9aad"
    },
    {
      "cell_type": "markdown",
      "metadata": {
        "id": "8e48ce8d-88dc-4a78-9c5c-1c1edf7e02cb"
      },
      "source": [
        "Нарешті, я хочу згадати дві дуже корисні функції для створення послідовностей чисел у визначеному діапазоні, а саме `arange` і `linspace`. Функція arange у NumPy має той самий синтаксис, що й об’єкти `range` в Python: якщо надано два аргументи, перший аргумент представляє початкове значення, а друге значення визначає кінцеве значення напіввідкритого інтервалу:"
      ],
      "id": "8e48ce8d-88dc-4a78-9c5c-1c1edf7e02cb"
    },
    {
      "cell_type": "markdown",
      "metadata": {
        "id": "64c38479-b55e-4dfc-8474-90d4782c0722"
      },
      "source": [
        "Numpy також має дві корисні функції для створення послідовностей чисел: `arange` і `linspace`.\n",
        "\n",
        "Функція `arange` приймає три аргументи, які визначають початкове значення, кінцеве значення(яке на включається) інтервалу та розмір кроку. (Розмір кроку за замовчуванням, якщо не вказано явно, дорівнює 1; початкове значення за замовчуванням, якщо не вказано явно, дорівнює 0.)\n",
        "\n",
        "Функція `linspace` схожа, але ми можемо вказати кількість значень замість розміру кроку, і вона створить послідовність рівномірно розташованих значень."
      ],
      "id": "64c38479-b55e-4dfc-8474-90d4782c0722"
    },
    {
      "cell_type": "code",
      "execution_count": 12,
      "metadata": {
        "id": "1c6208b2-5503-4fb0-9902-439bf83df7b0",
        "outputId": "54166f05-803f-42bc-9319-535befde43e3",
        "colab": {
          "base_uri": "https://localhost:8080/"
        }
      },
      "outputs": [
        {
          "output_type": "stream",
          "name": "stdout",
          "text": [
            "[10 15 20 25 30 35 40 45]\n"
          ]
        }
      ],
      "source": [
        "f = np.arange(10,50,5)   # Create an array of values starting at 10 in increments of 5\n",
        "print(f)"
      ],
      "id": "1c6208b2-5503-4fb0-9902-439bf83df7b0"
    },
    {
      "cell_type": "code",
      "execution_count": 13,
      "metadata": {
        "id": "9e23b524-d187-4da2-bc91-6fb6ea401764",
        "outputId": "2c58d976-394a-4c91-81d7-5b3bbd28a741",
        "colab": {
          "base_uri": "https://localhost:8080/"
        }
      },
      "outputs": [
        {
          "output_type": "stream",
          "name": "stdout",
          "text": [
            "[0.   0.25 0.5  0.75 1.  ]\n"
          ]
        }
      ],
      "source": [
        "g = np.linspace(0., 1., num=5)\n",
        "print(g)"
      ],
      "id": "9e23b524-d187-4da2-bc91-6fb6ea401764"
    },
    {
      "cell_type": "markdown",
      "metadata": {
        "id": "4a46dbd6-7be1-4cff-99b0-0fa9727e638f"
      },
      "source": [
        "Іноді ми можемо захотіти побудувати масив із існуючих масивів, «складаючи» існуючі масиви вертикально або горизонтально. Ми можемо використовувати `vstack()` (або `row_stack`) і `hstack()` (або `column_stack`), відповідно."
      ],
      "id": "4a46dbd6-7be1-4cff-99b0-0fa9727e638f"
    },
    {
      "cell_type": "code",
      "execution_count": 19,
      "metadata": {
        "id": "8f18be1e-aaf6-4434-83fd-beb4a5f12375",
        "outputId": "1fdd6994-a0ba-41ab-d3e7-2f4734b25d31",
        "colab": {
          "base_uri": "https://localhost:8080/"
        }
      },
      "outputs": [
        {
          "output_type": "stream",
          "name": "stdout",
          "text": [
            "a=array([1, 2, 3])\n",
            "\n",
            "b=array([4, 5, 6])\n",
            "\n"
          ]
        },
        {
          "output_type": "execute_result",
          "data": {
            "text/plain": [
              "array([[1, 2, 3],\n",
              "       [4, 5, 6]])"
            ]
          },
          "metadata": {},
          "execution_count": 19
        }
      ],
      "source": [
        "a = np.array([1, 2, 3])\n",
        "b = np.array([4, 5, 6])\n",
        "\n",
        "print(f\"{a=}\\n\")\n",
        "print(f\"{b=}\\n\")\n",
        "np.vstack((a,b))"
      ],
      "id": "8f18be1e-aaf6-4434-83fd-beb4a5f12375"
    },
    {
      "cell_type": "code",
      "execution_count": 17,
      "metadata": {
        "id": "1b2c6801-7af0-4b5d-a6cc-8e95997c50b4",
        "outputId": "88816a0d-4cd2-4913-9835-c7b42362c886",
        "colab": {
          "base_uri": "https://localhost:8080/"
        }
      },
      "outputs": [
        {
          "output_type": "stream",
          "name": "stdout",
          "text": [
            "a=array([[7],\n",
            "       [8],\n",
            "       [9]])\n",
            "\n",
            "b=array([[4],\n",
            "       [5],\n",
            "       [6]])\n",
            "\n"
          ]
        },
        {
          "output_type": "execute_result",
          "data": {
            "text/plain": [
              "array([[7, 4],\n",
              "       [8, 5],\n",
              "       [9, 6]])"
            ]
          },
          "metadata": {},
          "execution_count": 17
        }
      ],
      "source": [
        "a = np.array([[7], [8], [9]])\n",
        "b = np.array([[4], [5], [6]])\n",
        "\n",
        "print(f\"{a=}\\n\")\n",
        "print(f\"{b=}\\n\")\n",
        "np.hstack((a,b))"
      ],
      "id": "1b2c6801-7af0-4b5d-a6cc-8e95997c50b4"
    },
    {
      "cell_type": "markdown",
      "metadata": {
        "id": "e5fcad1c-e41e-49cf-b525-d1346167594a"
      },
      "source": [
        "### Індекси"
      ],
      "id": "e5fcad1c-e41e-49cf-b525-d1346167594a"
    },
    {
      "cell_type": "markdown",
      "metadata": {
        "id": "83f93d78-5e62-45d1-a37f-3083dd808190"
      },
      "source": [
        "\n",
        "Numpy пропонує кілька способів індексування в масиви."
      ],
      "id": "83f93d78-5e62-45d1-a37f-3083dd808190"
    },
    {
      "cell_type": "markdown",
      "metadata": {
        "id": "054e77f3-7369-426c-99ee-79ef4ad3252a"
      },
      "source": [
        "Ми можемо індексувати та використовувати розділення `slice` для масивів numpy усіма способами, як зі списками Python:\n",
        "\n",
        "![](http://jalammar.github.io/images/numpy/numpy-array-slice.png)\n",
        "\n",
        "І ви можете індексувати та розділяти масиви numpy у кількох вимірах. Якщо розрізати масив із кількома вимірами, ви повинні вказати зріз для кожного виміру:\n",
        "\n",
        "![](http://jalammar.github.io/images/numpy/numpy-matrix-indexing.png)"
      ],
      "id": "054e77f3-7369-426c-99ee-79ef4ad3252a"
    },
    {
      "cell_type": "code",
      "execution_count": null,
      "metadata": {
        "id": "d94de2b0-983c-45ca-b36c-524a2db3a32c"
      },
      "outputs": [],
      "source": [
        "# Create the following rank 2 array with shape (3, 4)\n",
        "# [[ 1  2  3  4]\n",
        "#  [ 5  6  7  8]\n",
        "#  [ 9 10 11 12]]\n",
        "a = np.array([[1,2,3,4], [5,6,7,8], [9,10,11,12]])\n",
        "\n",
        "# Use slicing to pull out the subarray consisting of the first 2 rows\n",
        "# and columns 1 and 2; b is the following array of shape (2, 2):\n",
        "# [[2 3]\n",
        "#  [6 7]]\n",
        "b = a[:2, 1:3]\n",
        "print(b)"
      ],
      "id": "d94de2b0-983c-45ca-b36c-524a2db3a32c"
    },
    {
      "cell_type": "markdown",
      "metadata": {
        "id": "fadca993-9d2e-4dde-9388-6415fadeef98"
      },
      "source": [
        "Фрагмент масиву — це перегляд тих самих даних, тому його зміна призведе до зміни оригінального масиву."
      ],
      "id": "fadca993-9d2e-4dde-9388-6415fadeef98"
    },
    {
      "cell_type": "code",
      "execution_count": null,
      "metadata": {
        "id": "1041b4a5-4e49-4119-917e-615561fcf570"
      },
      "outputs": [],
      "source": [
        "print(a[0, 1])\n",
        "b[0, 0] = 77    # b[0, 0] is the same piece of data as a[0, 1]\n",
        "print(a[0, 1])"
      ],
      "id": "1041b4a5-4e49-4119-917e-615561fcf570"
    },
    {
      "cell_type": "markdown",
      "metadata": {
        "id": "995e2a9c-2f80-469e-a40c-76a1d94a5841"
      },
      "source": [
        "Ви також можете поєднувати цілі індекси з індексуванням фрагментів. Однак це призведе до масиву нижчого виміру, ніж вихідний масив."
      ],
      "id": "995e2a9c-2f80-469e-a40c-76a1d94a5841"
    },
    {
      "cell_type": "code",
      "execution_count": 20,
      "metadata": {
        "id": "b608b60c-5379-497f-9e11-d8f2caf05c55",
        "outputId": "d56b2407-965a-4ae3-9c5d-12cdb97349d6",
        "colab": {
          "base_uri": "https://localhost:8080/"
        }
      },
      "outputs": [
        {
          "output_type": "stream",
          "name": "stdout",
          "text": [
            "[[ 1  2  3  4]\n",
            " [ 5  6  7  8]\n",
            " [ 9 10 11 12]]\n"
          ]
        }
      ],
      "source": [
        "# Create the following rank 2 array with shape (3, 4)\n",
        "a = np.array([[1,2,3,4], [5,6,7,8], [9,10,11,12]])\n",
        "print(a)"
      ],
      "id": "b608b60c-5379-497f-9e11-d8f2caf05c55"
    },
    {
      "cell_type": "markdown",
      "metadata": {
        "id": "58f38253-463c-48d0-a702-3ddf94120629"
      },
      "source": [
        "Два способи доступу до даних у другому рядку масиву. Змішування цілочисельної індексації з фрагментами дає масив нижчого рангу, тоді як використання лише фрагментів дає масив того самого рангу, що й вихідний масив:"
      ],
      "id": "58f38253-463c-48d0-a702-3ddf94120629"
    },
    {
      "cell_type": "code",
      "execution_count": 22,
      "metadata": {
        "id": "0c3dd6e7-04b8-4f7a-b233-117cde5e2b4e",
        "outputId": "380ae6e5-9cb0-45fb-a8cf-bcb62ea9f421",
        "colab": {
          "base_uri": "https://localhost:8080/"
        }
      },
      "outputs": [
        {
          "output_type": "stream",
          "name": "stdout",
          "text": [
            "[5 6 7 8] (4,)\n",
            "[[5 6 7 8]] (1, 4)\n",
            "[[5 6 7 8]] (1, 4)\n"
          ]
        }
      ],
      "source": [
        "row_r1 = a[1, :]    # Rank 1 view of the second row of a\n",
        "row_r2 = a[1:2, :]  # Rank 2 view of the second row of a\n",
        "row_r3 = a[[1], :]  # Rank 2 view of the second row of a\n",
        "\n",
        "print(row_r1, row_r1.shape)\n",
        "print(row_r2, row_r2.shape)\n",
        "print(row_r3, row_r3.shape)"
      ],
      "id": "0c3dd6e7-04b8-4f7a-b233-117cde5e2b4e"
    },
    {
      "cell_type": "code",
      "execution_count": 24,
      "metadata": {
        "id": "d1c9bb25-d326-454b-89e3-be5139149855",
        "outputId": "f03d49f6-5f64-4ebb-f7e8-c6d7c9b28b2c",
        "colab": {
          "base_uri": "https://localhost:8080/"
        }
      },
      "outputs": [
        {
          "output_type": "stream",
          "name": "stdout",
          "text": [
            "[ 2  6 10] (3,)\n",
            "\n",
            "[[ 2]\n",
            " [ 6]\n",
            " [10]] (3, 1)\n"
          ]
        }
      ],
      "source": [
        "# Для стовпчиків\n",
        "col_r1 = a[:, 1]\n",
        "col_r2 = a[:, 1:2]\n",
        "print(col_r1, col_r1.shape)\n",
        "print()\n",
        "print(col_r2, col_r2.shape)"
      ],
      "id": "d1c9bb25-d326-454b-89e3-be5139149855"
    },
    {
      "cell_type": "markdown",
      "metadata": {
        "id": "a7835461-34e9-4437-8f9b-ad6b909de079"
      },
      "source": [
        "Індексування цілочисельного масиву: коли ви індексуєте масиви numpy за допомогою слайсів, отриманий масив завжди буде підмасивом вихідного масиву. Навпаки, індексація цілочисельного масиву дозволяє створювати довільні масиви, використовуючи дані з іншого масиву."
      ],
      "id": "a7835461-34e9-4437-8f9b-ad6b909de079"
    },
    {
      "cell_type": "code",
      "execution_count": 26,
      "metadata": {
        "id": "806d91e7-981a-4955-9e1b-ea0226eec00e",
        "outputId": "ae569bd8-123f-4d5d-854c-d223c914ea0f",
        "colab": {
          "base_uri": "https://localhost:8080/"
        }
      },
      "outputs": [
        {
          "output_type": "stream",
          "name": "stdout",
          "text": [
            "[[1 2]\n",
            " [3 4]\n",
            " [5 6]]\n",
            "\n",
            "[1 4 5]\n",
            "[1 4 5]\n"
          ]
        }
      ],
      "source": [
        "a = np.array([[1,2], [3, 4], [5, 6]])\n",
        "print(a)\n",
        "print()\n",
        "\n",
        "# An example of integer array indexing.\n",
        "# Результатом є масив розміру (3,)\n",
        "print(a[[0, 1, 2], [0, 1, 0]])\n",
        "print()\n",
        "\n",
        "# Даний рялок коду аналогічний наступному\n",
        "print(np.array([a[0, 0], a[1, 1], a[2, 0]]))"
      ],
      "id": "806d91e7-981a-4955-9e1b-ea0226eec00e"
    },
    {
      "cell_type": "markdown",
      "metadata": {
        "id": "24ebdd61-2313-4aec-a02a-e4b898906ec5"
      },
      "source": [
        "Отримані таким чином елементи можна змінювати у вихідному масиві"
      ],
      "id": "24ebdd61-2313-4aec-a02a-e4b898906ec5"
    },
    {
      "cell_type": "code",
      "execution_count": 32,
      "metadata": {
        "id": "1260ecb9-799c-4a08-8d77-5da2abc5db8f",
        "outputId": "28654178-9433-4b9d-bb0d-4a31c3f592ad",
        "colab": {
          "base_uri": "https://localhost:8080/"
        }
      },
      "outputs": [
        {
          "output_type": "stream",
          "name": "stdout",
          "text": [
            "[[ 1  2  3]\n",
            " [ 4  5  6]\n",
            " [ 7  8  9]\n",
            " [10 11 12]]\n"
          ]
        }
      ],
      "source": [
        "# Create a new array from which we will select elements\n",
        "a = np.array([[1,2,3], [4,5,6], [7,8,9], [10, 11, 12]])\n",
        "print(a)"
      ],
      "id": "1260ecb9-799c-4a08-8d77-5da2abc5db8f"
    },
    {
      "cell_type": "code",
      "execution_count": 33,
      "metadata": {
        "id": "76d3c86a-3d03-423d-909b-09598b903965",
        "outputId": "3d150dda-b110-4ff8-a98c-ed90b482d702",
        "colab": {
          "base_uri": "https://localhost:8080/"
        }
      },
      "outputs": [
        {
          "output_type": "stream",
          "name": "stdout",
          "text": [
            "[ 1  6  7 11]\n"
          ]
        }
      ],
      "source": [
        "# Create an array of indices\n",
        "b = np.array([0, 2, 0, 1])\n",
        "\n",
        "# Select one element from each row of a using the indices in b\n",
        "print(a[range(4), b])  # Prints \"[ 1  6  7 11]\""
      ],
      "id": "76d3c86a-3d03-423d-909b-09598b903965"
    },
    {
      "cell_type": "code",
      "execution_count": 34,
      "metadata": {
        "id": "4a3a192e-ba4f-481e-92c5-2b625bcb2a80",
        "outputId": "55f3a6e8-8b97-42e5-ccfb-972536535822",
        "colab": {
          "base_uri": "https://localhost:8080/"
        }
      },
      "outputs": [
        {
          "output_type": "stream",
          "name": "stdout",
          "text": [
            "[[11  2  3]\n",
            " [ 4  5 16]\n",
            " [17  8  9]\n",
            " [10 21 12]]\n"
          ]
        }
      ],
      "source": [
        "# Mutate one element from each row of a using the indices in b\n",
        "a[range(4), b] += 10\n",
        "print(a)"
      ],
      "id": "4a3a192e-ba4f-481e-92c5-2b625bcb2a80"
    },
    {
      "cell_type": "markdown",
      "metadata": {
        "id": "e61369aa-296b-428c-84df-54a0e3a69e31"
      },
      "source": [
        "Логічне індексування масиву: логічне індексування масиву дозволяє вибирати довільні елементи масиву. Часто цей тип індексування використовується для вибору елементів масиву, які задовольняють певну умову."
      ],
      "id": "e61369aa-296b-428c-84df-54a0e3a69e31"
    },
    {
      "cell_type": "code",
      "execution_count": 35,
      "metadata": {
        "id": "92dd26a4-a2d2-4d0d-9d9a-6c9de8d4dbcd",
        "outputId": "c353c0b1-9950-4aad-f329-1c74a904dc6e",
        "colab": {
          "base_uri": "https://localhost:8080/"
        }
      },
      "outputs": [
        {
          "output_type": "stream",
          "name": "stdout",
          "text": [
            "[[False False]\n",
            " [ True  True]\n",
            " [ True  True]]\n"
          ]
        }
      ],
      "source": [
        "a = np.array([[1,2], [3, 4], [5, 6]])\n",
        "\n",
        "bool_idx = (a > 2)  # знайти елементи які більше 2;\n",
        "                    # поверне масив з True/False такого ж розміру як а\n",
        "                    # де кожен елемент bool_idx каже\n",
        "                    # чи виконується умова для відповідного елемента в а\n",
        "\n",
        "print(bool_idx)"
      ],
      "id": "92dd26a4-a2d2-4d0d-9d9a-6c9de8d4dbcd"
    },
    {
      "cell_type": "code",
      "execution_count": null,
      "metadata": {
        "id": "52f31c05-406f-4c5d-ad25-212194c69cd0"
      },
      "outputs": [],
      "source": [
        "# Використання логічного індексування поверне одновимірний масив\n",
        "# з елементами які відповідають True\n",
        "\n",
        "print(a[bool_idx])\n",
        "\n",
        "# В одному рядку коду\n",
        "print(a[a > 2])"
      ],
      "id": "52f31c05-406f-4c5d-ad25-212194c69cd0"
    },
    {
      "cell_type": "markdown",
      "metadata": {
        "id": "ebb38476-c368-49d4-87cf-ac5c57c7eca8"
      },
      "source": [
        "Під час роботи з масивами numpy часто корисно отримати *індекси* (а не лише значення) елементів масиву, які відповідають певним умовам. Є кілька функцій numpy, які ви точно захочете запам’ятати:\n",
        "\n",
        "-   [`argmax`](https://numpy.org/doc/stable/reference/generated/numpy.argmax.html) (індекс максимального елементу)\n",
        "-   [`argmin`](https://numpy.org/doc/stable/reference/generated/numpy.argmin.html) (індекс мінімального елементу)\n",
        "-   [`argsort`](https://numpy.org/doc/stable/reference/generated/numpy.argsort.html) (відсортований список індексів за значенням елемента в порядку зростання)\n",
        "-   [`where`](https://numpy.org/doc/stable/reference/generated/numpy.where.html) (індекси елементів, які відповідають певній умові)"
      ],
      "id": "ebb38476-c368-49d4-87cf-ac5c57c7eca8"
    },
    {
      "cell_type": "code",
      "execution_count": 37,
      "metadata": {
        "id": "c26e1c0c-8c12-4df9-99cd-9614e36b64ae",
        "outputId": "39f4b557-d88b-4d59-8189-df6a247828b8",
        "colab": {
          "base_uri": "https://localhost:8080/"
        }
      },
      "outputs": [
        {
          "output_type": "stream",
          "name": "stdout",
          "text": [
            "2\n",
            "3\n",
            "[3 0 4 5 6 1 2 7]\n",
            "[7 2 1 6 5 4 0 3]\n",
            "[1 2 6 7]\n"
          ]
        }
      ],
      "source": [
        "a = np.array([1, 8, 9, -3, 2, 4, 7, 9])\n",
        "\n",
        "print(np.argmax(a))\n",
        "\n",
        "print(np.argmin(a))\n",
        "\n",
        "print(np.argsort(a))\n",
        "\n",
        "print(np.argsort(a)[::-1])\n",
        "\n",
        "print(np.where(a > 5)[0])"
      ],
      "id": "c26e1c0c-8c12-4df9-99cd-9614e36b64ae"
    },
    {
      "cell_type": "markdown",
      "metadata": {
        "id": "83e9e67d-6b7c-4b76-897a-ed48c3d578f9"
      },
      "source": [
        "Більше інформації у документації"
      ],
      "id": "83e9e67d-6b7c-4b76-897a-ed48c3d578f9"
    },
    {
      "cell_type": "markdown",
      "metadata": {
        "id": "7ab927d6-f7d6-4b6f-ad1d-60451d55b670"
      },
      "source": [
        "### Типи даних"
      ],
      "id": "7ab927d6-f7d6-4b6f-ad1d-60451d55b670"
    },
    {
      "cell_type": "markdown",
      "metadata": {
        "id": "3ccb9dea-1ee7-42e8-b5b9-a623fe7ab745"
      },
      "source": [
        "Кожен масив numpy є сіткою елементів одного типу. Numpy надає великий набір числових типів даних, які можна використовувати для створення масивів. Numpy намагається вгадати тип даних, коли ви створюєте масив, але функції, які створюють масиви, зазвичай також включають необов’язковий аргумент для явного визначення типу даних."
      ],
      "id": "3ccb9dea-1ee7-42e8-b5b9-a623fe7ab745"
    },
    {
      "cell_type": "code",
      "execution_count": 38,
      "metadata": {
        "id": "2b021a07-6390-4216-931d-06bf28a996dc",
        "outputId": "ab52e3be-ac25-4664-9a75-fd44c94fef00",
        "colab": {
          "base_uri": "https://localhost:8080/"
        }
      },
      "outputs": [
        {
          "output_type": "stream",
          "name": "stdout",
          "text": [
            "int64 float64 int64\n"
          ]
        }
      ],
      "source": [
        "x = np.array([1, 2])  # Let numpy choose the datatype\n",
        "y = np.array([1.0, 2.0])  # Let numpy choose the datatype\n",
        "z = np.array([1, 2], dtype=np.int64)  # Force a particular datatype\n",
        "\n",
        "print(x.dtype, y.dtype, z.dtype)"
      ],
      "id": "2b021a07-6390-4216-931d-06bf28a996dc"
    },
    {
      "cell_type": "markdown",
      "metadata": {
        "id": "b884c694-57a4-49d3-9df5-8a6898934831"
      },
      "source": [
        "Більше тут [documentation](http://docs.scipy.org/doc/numpy/reference/arrays.dtypes.html)."
      ],
      "id": "b884c694-57a4-49d3-9df5-8a6898934831"
    },
    {
      "cell_type": "markdown",
      "metadata": {
        "id": "cb3c901b-b344-400d-9e0f-b2fa70e28e4d"
      },
      "source": [
        "### Дії з масивами"
      ],
      "id": "cb3c901b-b344-400d-9e0f-b2fa70e28e4d"
    },
    {
      "cell_type": "markdown",
      "metadata": {
        "id": "2fea02dd-c4f7-4bd4-8006-9a2cb0c7cef2"
      },
      "source": [
        "Що робить роботу з `numpy` такою потужною та зручною, так це те, що він містить багато *векторизованих* математичних функцій для обчислень над елементами масиву. Ці функції дуже оптимізовані та *дуже* швидкі - набагато, набагато швидше, ніж використання явного циклу for.\n",
        "\n",
        "Наприклад, давайте створимо великий масив випадкових значень, а потім підсумуємо його в обох напрямках. Ми використаємо `%%time` *cell magic*, щоб визначити час."
      ],
      "id": "2fea02dd-c4f7-4bd4-8006-9a2cb0c7cef2"
    },
    {
      "cell_type": "code",
      "execution_count": 42,
      "metadata": {
        "id": "92314cea-6001-4207-b40e-d0208a1597e2"
      },
      "outputs": [],
      "source": [
        "a = np.random.random(10000000)"
      ],
      "id": "92314cea-6001-4207-b40e-d0208a1597e2"
    },
    {
      "cell_type": "code",
      "execution_count": 43,
      "metadata": {
        "id": "33a4e0ed-340e-436c-882a-df2224c8af21",
        "outputId": "c7365a7a-9f99-4dc6-9514-26f69b0d91e4",
        "colab": {
          "base_uri": "https://localhost:8080/"
        }
      },
      "outputs": [
        {
          "output_type": "stream",
          "name": "stdout",
          "text": [
            "CPU times: user 10.5 ms, sys: 0 ns, total: 10.5 ms\n",
            "Wall time: 22.7 ms\n"
          ]
        }
      ],
      "source": [
        "%%time\n",
        "x = np.sum(a)"
      ],
      "id": "33a4e0ed-340e-436c-882a-df2224c8af21"
    },
    {
      "cell_type": "code",
      "execution_count": 44,
      "metadata": {
        "id": "7252032c-bc87-4124-bb9d-0d2fada3e226",
        "outputId": "2e5b63cb-e739-49f2-ee5e-7f48e7b40494",
        "colab": {
          "base_uri": "https://localhost:8080/"
        }
      },
      "outputs": [
        {
          "output_type": "stream",
          "name": "stdout",
          "text": [
            "CPU times: user 1.89 s, sys: 3.3 ms, total: 1.9 s\n",
            "Wall time: 1.91 s\n"
          ]
        }
      ],
      "source": [
        "%%time\n",
        "x = 0\n",
        "for element in a:\n",
        "  x = x + element"
      ],
      "id": "7252032c-bc87-4124-bb9d-0d2fada3e226"
    },
    {
      "cell_type": "markdown",
      "metadata": {
        "id": "c75990d9-6999-40a2-a0e3-e8207110676a"
      },
      "source": [
        "Зверніть увагу, наскільки швидша векторизована версія операції! Цей тип швидких обчислень є основним засобом машинного навчання, яке вимагає *багато* обчислень.\n",
        "\n",
        "За можливості ми намагатимемося використовувати ці векторизовані операції."
      ],
      "id": "c75990d9-6999-40a2-a0e3-e8207110676a"
    },
    {
      "cell_type": "markdown",
      "metadata": {
        "id": "b2120332-98ac-4685-9488-054a21ec141f"
      },
      "source": [
        "Деякі математичні функції доступні як перевантаження операторів, так і функції в модулі numpy."
      ],
      "id": "b2120332-98ac-4685-9488-054a21ec141f"
    },
    {
      "cell_type": "markdown",
      "metadata": {
        "id": "604243cf-4411-44a3-9b25-789631caf959"
      },
      "source": [
        "\n",
        "Наприклад, ви можете виконати поелементне підсумовування двох масивів за допомогою оператора + або функції `add()`.\n",
        "\n",
        "![](http://jalammar.github.io/images/numpy/numpy-arrays-adding-1.png)\n",
        "\n",
        "![](http://jalammar.github.io/images/numpy/numpy-matrix-arithmetic.png)"
      ],
      "id": "604243cf-4411-44a3-9b25-789631caf959"
    },
    {
      "cell_type": "code",
      "execution_count": 45,
      "metadata": {
        "id": "e6d49bb6-ebfe-4416-8a7f-c1f5b77e5e8a",
        "outputId": "ab19e8b3-60c8-494b-e176-96d3773362f9",
        "colab": {
          "base_uri": "https://localhost:8080/"
        }
      },
      "outputs": [
        {
          "output_type": "stream",
          "name": "stdout",
          "text": [
            "[[ 6.  8.]\n",
            " [10. 12.]]\n",
            "[[ 6.  8.]\n",
            " [10. 12.]]\n"
          ]
        }
      ],
      "source": [
        "x = np.array([[1,2],[3,4]], dtype=np.float64)\n",
        "y = np.array([[5,6],[7,8]], dtype=np.float64)\n",
        "\n",
        "# Elementwise sum; both produce the array\n",
        "print(x + y)\n",
        "print(np.add(x, y))"
      ],
      "id": "e6d49bb6-ebfe-4416-8a7f-c1f5b77e5e8a"
    },
    {
      "cell_type": "markdown",
      "metadata": {
        "id": "66adf079-d0e8-4ceb-ae88-4e78447bb6d5"
      },
      "source": [
        "І це також працює для інших операцій, а не лише для додавання:\n",
        "\n",
        "![](http://jalammar.github.io/images/numpy/numpy-array-subtract-multiply-divide.png)"
      ],
      "id": "66adf079-d0e8-4ceb-ae88-4e78447bb6d5"
    },
    {
      "cell_type": "code",
      "execution_count": null,
      "metadata": {
        "id": "83178bc8-6909-42ad-af86-1a7a76516a4c"
      },
      "outputs": [],
      "source": [
        "# Elementwise difference; both produce the array\n",
        "print(x - y)\n",
        "print(np.subtract(x, y))"
      ],
      "id": "83178bc8-6909-42ad-af86-1a7a76516a4c"
    },
    {
      "cell_type": "code",
      "execution_count": null,
      "metadata": {
        "id": "3bbca1af-53ab-44d7-a9df-e5a69463f715"
      },
      "outputs": [],
      "source": [
        "# Elementwise product; both produce the array\n",
        "print(x * y)\n",
        "print(np.multiply(x, y))"
      ],
      "id": "3bbca1af-53ab-44d7-a9df-e5a69463f715"
    },
    {
      "cell_type": "code",
      "execution_count": null,
      "metadata": {
        "id": "e98baa36-56e0-4fdc-b371-ebe02e600e0f"
      },
      "outputs": [],
      "source": [
        "# Elementwise division; both produce the array\n",
        "# [[ 0.2         0.33333333]\n",
        "#  [ 0.42857143  0.5       ]]\n",
        "print(x / y)\n",
        "print(np.divide(x, y))"
      ],
      "id": "e98baa36-56e0-4fdc-b371-ebe02e600e0f"
    },
    {
      "cell_type": "code",
      "execution_count": null,
      "metadata": {
        "id": "226ebb2f-a24c-4f22-ae1c-d4c5302882a8"
      },
      "outputs": [],
      "source": [
        "# Elementwise square root; produces the array\n",
        "# [[ 1.          1.41421356]\n",
        "#  [ 1.73205081  2.        ]]\n",
        "print(np.sqrt(x))"
      ],
      "id": "226ebb2f-a24c-4f22-ae1c-d4c5302882a8"
    },
    {
      "cell_type": "markdown",
      "metadata": {
        "id": "d2125bff-5063-482e-97ac-f997665fe8a9"
      },
      "source": [
        "Можна використовуємо функцію `dot()` для обчислення скалярних добутків векторів, множення вектора на матрицю та множення матриць. `dot()` доступний і як функція в модулі numpy, і як метод екземпляра об’єктів масиву:\n",
        "\n",
        "Корисне посилання: ![Matrix maltuplication](http://www.mathsisfun.com/algebra/matrix-multiplying.html)\n",
        "\n",
        "![](http://jalammar.github.io/images/numpy/numpy-matrix-dot-product-1.png)"
      ],
      "id": "d2125bff-5063-482e-97ac-f997665fe8a9"
    },
    {
      "cell_type": "code",
      "execution_count": 46,
      "metadata": {
        "id": "6e8eaf91-4f6a-4c82-b2a9-b4ab9c840554",
        "outputId": "1cb20ec4-9103-46f6-84b9-4c8d3dd74610",
        "colab": {
          "base_uri": "https://localhost:8080/"
        }
      },
      "outputs": [
        {
          "output_type": "stream",
          "name": "stdout",
          "text": [
            "219\n",
            "219\n"
          ]
        }
      ],
      "source": [
        "x = np.array([[1,2],[3,4]])\n",
        "y = np.array([[5,6],[7,8]])\n",
        "\n",
        "v = np.array([9,10])\n",
        "w = np.array([11, 12])\n",
        "\n",
        "# Inner product of vectors; both produce 219\n",
        "print(v.dot(w))\n",
        "print(np.dot(v, w))"
      ],
      "id": "6e8eaf91-4f6a-4c82-b2a9-b4ab9c840554"
    },
    {
      "cell_type": "markdown",
      "metadata": {
        "id": "15dfbf0b-74c0-4684-81a9-851d4ebabe6a"
      },
      "source": [
        "Ви також можете використовувати оператор `@`, який еквівалентний функції `dot` numpy."
      ],
      "id": "15dfbf0b-74c0-4684-81a9-851d4ebabe6a"
    },
    {
      "cell_type": "code",
      "execution_count": 47,
      "metadata": {
        "id": "d0168e19-0fbe-43fc-a561-43db3eab3e6a",
        "outputId": "11fee7ee-e077-4f54-daec-aa9e3759bc87",
        "colab": {
          "base_uri": "https://localhost:8080/"
        }
      },
      "outputs": [
        {
          "output_type": "stream",
          "name": "stdout",
          "text": [
            "219\n"
          ]
        }
      ],
      "source": [
        "print(v @ w)"
      ],
      "id": "d0168e19-0fbe-43fc-a561-43db3eab3e6a"
    },
    {
      "cell_type": "code",
      "execution_count": null,
      "metadata": {
        "id": "ed5a07e9-5e8c-4e92-9db6-9e0e7daf8e27"
      },
      "outputs": [],
      "source": [
        "# Matrix / vector product; both produce the rank 1 array [29 67]\n",
        "print(x.dot(v))\n",
        "print(np.dot(x, v))\n",
        "print(x @ v)"
      ],
      "id": "ed5a07e9-5e8c-4e92-9db6-9e0e7daf8e27"
    },
    {
      "cell_type": "code",
      "execution_count": 52,
      "metadata": {
        "id": "e42300f0-be37-4c96-9d21-7c67cf06d370",
        "outputId": "81d11f16-7bef-4a25-f6c4-110c22ddee02",
        "colab": {
          "base_uri": "https://localhost:8080/"
        }
      },
      "outputs": [
        {
          "output_type": "stream",
          "name": "stdout",
          "text": [
            "[[1 2]\n",
            " [3 4]] \n",
            "\n",
            "[[5 6]\n",
            " [7 8]] \n",
            "\n",
            "[[19 22]\n",
            " [43 50]] \n",
            "\n"
          ]
        }
      ],
      "source": [
        "# Matrix / matrix product; both produce the rank 2 array\n",
        "# [[19 22]\n",
        "#  [43 50]]\n",
        "print(x, \"\\n\")\n",
        "print(y, \"\\n\")\n",
        "print(x @ y, \"\\n\")"
      ],
      "id": "e42300f0-be37-4c96-9d21-7c67cf06d370"
    },
    {
      "cell_type": "markdown",
      "metadata": {
        "id": "df7ccfe0-587f-46e6-83c4-6a6cc38ff1ea"
      },
      "source": [
        "Окрім функцій, які перевантажують оператори, Numpy також надає багато корисних функцій для виконання обчислень у масивах, таких як `min()`, `max()`, `sum()` та інші:\n",
        "\n",
        "![](http://jalammar.github.io/images/numpy/numpy-matrix-aggregation-1.png)"
      ],
      "id": "df7ccfe0-587f-46e6-83c4-6a6cc38ff1ea"
    },
    {
      "cell_type": "code",
      "execution_count": null,
      "metadata": {
        "id": "66adf5e5-773e-48fd-aff1-b42cec7a0491"
      },
      "outputs": [],
      "source": [
        "x = np.array([[1, 2], [3, 4], [5, 6]])\n",
        "\n",
        "print(np.max(x))  # Compute max of all elements; prints \"6\"\n",
        "print(np.min(x))  # Compute min of all elements; prints \"1\"\n",
        "print(np.sum(x))  # Compute sum of all elements; prints \"21\""
      ],
      "id": "66adf5e5-773e-48fd-aff1-b42cec7a0491"
    },
    {
      "cell_type": "markdown",
      "metadata": {
        "id": "96121e02-4803-40ec-a8be-5c054519754d"
      },
      "source": [
        "Ми можемо застосовувати ці функції не тільки по всіх значеннях в матриці, але застосовувати їх по рядках або стовпцях за допомогою параметра `axis`:\n",
        "\n",
        "![](http://jalammar.github.io/images/numpy/numpy-matrix-aggregation-4.png)"
      ],
      "id": "96121e02-4803-40ec-a8be-5c054519754d"
    },
    {
      "cell_type": "code",
      "source": [],
      "metadata": {
        "id": "BoxW0O_JcOIm"
      },
      "id": "BoxW0O_JcOIm",
      "execution_count": null,
      "outputs": []
    },
    {
      "cell_type": "code",
      "execution_count": null,
      "metadata": {
        "id": "c5b0a1f4-4a9e-4d6f-aec0-21473253cda3"
      },
      "outputs": [],
      "source": [
        "x = np.array([[1, 2], [5, 3], [4, 6]])\n",
        "\n",
        "print(np.max(x, axis=0))  # Compute max of each column; prints \"[5 6]\"\n",
        "print(np.max(x, axis=1))  # Compute max of each row; prints \"[2 5 6]\""
      ],
      "id": "c5b0a1f4-4a9e-4d6f-aec0-21473253cda3"
    },
    {
      "cell_type": "markdown",
      "metadata": {
        "id": "e9b3473b-9d78-49b4-b405-9dcf386b93e0"
      },
      "source": [
        "Ви можете знайти повний список математичних функцій, які надає numpy, у [documentation](http://docs.scipy.org/doc/numpy/reference/routines.math.html)."
      ],
      "id": "e9b3473b-9d78-49b4-b405-9dcf386b93e0"
    },
    {
      "cell_type": "markdown",
      "metadata": {
        "id": "d39ad048-edd3-4c0c-9620-13a8ba6cbf01"
      },
      "source": [
        "Окрім обчислення математичних функцій за допомогою масивів, нам часто потрібно змінювати форму або іншим чином маніпулювати даними в масивах. Найпростішим прикладом цього типу операції є транспонування матриці; щоб транспонувати матрицю, просто використовуйте атрибут T об’єкта масиву.\n",
        "\n",
        "![](http://jalammar.github.io/images/numpy/numpy-transpose.png)"
      ],
      "id": "d39ad048-edd3-4c0c-9620-13a8ba6cbf01"
    },
    {
      "cell_type": "code",
      "execution_count": 53,
      "metadata": {
        "id": "d50bc55d-177e-4d6a-aea9-291c48620eba",
        "outputId": "eae358dd-1775-4a4d-de6f-1dfc2169cb87",
        "colab": {
          "base_uri": "https://localhost:8080/"
        }
      },
      "outputs": [
        {
          "output_type": "stream",
          "name": "stdout",
          "text": [
            "[[1 2]\n",
            " [3 4]\n",
            " [5 6]]\n",
            "transpose\n",
            " [[1 3 5]\n",
            " [2 4 6]]\n"
          ]
        }
      ],
      "source": [
        "x = np.array([[1, 2], [3, 4], [5, 6]])\n",
        "\n",
        "print(x)\n",
        "print(\"transpose\\n\", x.T)"
      ],
      "id": "d50bc55d-177e-4d6a-aea9-291c48620eba"
    },
    {
      "cell_type": "code",
      "execution_count": 54,
      "metadata": {
        "id": "ddb52688-8f4d-4eb4-8249-c63a56b639a2",
        "outputId": "ab8b4b7b-4454-49f6-9445-805b2b6a89f4",
        "colab": {
          "base_uri": "https://localhost:8080/"
        }
      },
      "outputs": [
        {
          "output_type": "stream",
          "name": "stdout",
          "text": [
            "[[1 2 3]]\n",
            "transpose\n",
            " [[1]\n",
            " [2]\n",
            " [3]]\n"
          ]
        }
      ],
      "source": [
        "v = np.array([[1,2,3]])\n",
        "print(v )\n",
        "print(\"transpose\\n\", v.T)"
      ],
      "id": "ddb52688-8f4d-4eb4-8249-c63a56b639a2"
    },
    {
      "cell_type": "markdown",
      "metadata": {
        "id": "aed0f9ad-f114-42a5-aae1-09672bdffc97"
      },
      "source": [
        "У більш просунутому випадку використання вам може знадобитися змінити розміри певної матриці. Це часто буває в програмах машинного навчання, де певна модель очікує певної форми для вхідних даних, яка відрізняється від вашого набору даних. Метод numpy `reshape()` корисний у цих випадках.\n",
        "\n",
        "![](http://jalammar.github.io/images/numpy/numpy-reshape.png)"
      ],
      "id": "aed0f9ad-f114-42a5-aae1-09672bdffc97"
    },
    {
      "cell_type": "markdown",
      "metadata": {
        "id": "59c09a49-bad1-4c70-a137-7c9a3c26d625"
      },
      "source": [
        "A common task in this class will be to convert a 1D array to a 2D array, and vice versa. We can use `reshape()` for this."
      ],
      "id": "59c09a49-bad1-4c70-a137-7c9a3c26d625"
    },
    {
      "cell_type": "markdown",
      "metadata": {
        "id": "3ecf3a91-68c3-4186-a7ec-583d08e685db"
      },
      "source": [
        "For example, suppose we had this 2D array, but we need to pass it to a function that expects a 1D array."
      ],
      "id": "3ecf3a91-68c3-4186-a7ec-583d08e685db"
    },
    {
      "cell_type": "code",
      "execution_count": null,
      "metadata": {
        "id": "b1884a4d-c183-4c1a-b4aa-0e9e9925f284"
      },
      "outputs": [],
      "source": [
        "w = np.array([[1],[2],[3]])\n",
        "print(w)\n",
        "w.shape"
      ],
      "id": "b1884a4d-c183-4c1a-b4aa-0e9e9925f284"
    },
    {
      "cell_type": "markdown",
      "metadata": {
        "id": "7bd067b9-1f56-4714-8baa-75f81a8b4d2c"
      },
      "source": [
        "We can remove the “unnecessary” extra dimension with"
      ],
      "id": "7bd067b9-1f56-4714-8baa-75f81a8b4d2c"
    },
    {
      "cell_type": "code",
      "execution_count": null,
      "metadata": {
        "id": "31ac2e61-d3de-4b10-ab04-df7d879754b1"
      },
      "outputs": [],
      "source": [
        "y = w.reshape(-1,)\n",
        "print(y)\n",
        "y.shape"
      ],
      "id": "31ac2e61-d3de-4b10-ab04-df7d879754b1"
    },
    {
      "cell_type": "markdown",
      "metadata": {
        "id": "3224804b-5a14-4607-a536-4b3d584ee815"
      },
      "source": [
        "Note that we can pass -1 as one dimension and numpy will infer the correct size based on our matrix size!\n",
        "\n",
        "There’s also a `squeeze()` function that removes *all* of the “unnecessary” dimensions (dimensions that have size 1) from an array:"
      ],
      "id": "3224804b-5a14-4607-a536-4b3d584ee815"
    },
    {
      "cell_type": "code",
      "execution_count": null,
      "metadata": {
        "id": "9c4a3539-3c94-4ac1-bae5-ccf4837dcccb"
      },
      "outputs": [],
      "source": [
        "z = w.squeeze()\n",
        "print(z)\n",
        "z.shape"
      ],
      "id": "9c4a3539-3c94-4ac1-bae5-ccf4837dcccb"
    },
    {
      "cell_type": "markdown",
      "metadata": {
        "id": "38a91793-4a23-44c9-babf-2a304434fefb"
      },
      "source": [
        "To go from a 1D to 2D array, we can just add in another dimension of size 1:"
      ],
      "id": "38a91793-4a23-44c9-babf-2a304434fefb"
    },
    {
      "cell_type": "code",
      "execution_count": null,
      "metadata": {
        "id": "616aac7c-8dda-4239-bef8-95d6992ec41f"
      },
      "outputs": [],
      "source": [
        "y.reshape((-1,1))"
      ],
      "id": "616aac7c-8dda-4239-bef8-95d6992ec41f"
    },
    {
      "cell_type": "markdown",
      "metadata": {
        "id": "2f732295-05f9-4b61-9f24-8efd6b41de8d"
      },
      "source": [
        "### Broadcasting"
      ],
      "id": "2f732295-05f9-4b61-9f24-8efd6b41de8d"
    },
    {
      "cell_type": "markdown",
      "metadata": {
        "id": "2a85d55c-e7e9-4552-b3af-4476d5ccbe86"
      },
      "source": [
        "Broadcasting is a powerful mechanism that allows numpy to work with arrays of different shapes when performing arithmetic operations."
      ],
      "id": "2a85d55c-e7e9-4552-b3af-4476d5ccbe86"
    },
    {
      "cell_type": "markdown",
      "metadata": {
        "id": "7c21ce51-aeab-4da1-8d7f-60507ae6c22d"
      },
      "source": [
        "For example: basic linear algebra, we can only add (and perform similar element-wise operations) two matrics that have the *same* dimension. In numpy, if we want to add two matrics that have different dimensions, numpy will implicitly “extend” the dimension of one matrix to match the other so that we can perform the operation.\n",
        "\n",
        "So these operations will work, instead of returning an error:\n",
        "\n",
        "![](https://sebastianraschka.com/images/blog/2020/numpy-intro/broadcasting-1.png)\n",
        "\n",
        "![](https://sebastianraschka.com/images/blog/2020/numpy-intro/broadcasting-2.png)"
      ],
      "id": "7c21ce51-aeab-4da1-8d7f-60507ae6c22d"
    },
    {
      "cell_type": "markdown",
      "metadata": {
        "id": "aa6e5252-c604-45b4-870a-4e7c6020ae99"
      },
      "source": [
        "Broadcasting two arrays together follows these rules:\n",
        "\n",
        "**Rule 1**: If the two arrays differ in their number of dimensions, the shape of the one with fewer dimensions is padded with ones on its leading (left) side.\n",
        "\n",
        "For example, in the following cell, `a` will be implicitly extended to shape (1,3):"
      ],
      "id": "aa6e5252-c604-45b4-870a-4e7c6020ae99"
    },
    {
      "cell_type": "code",
      "execution_count": null,
      "metadata": {
        "id": "3e32bef1-4753-4893-89ca-4edc7288c766"
      },
      "outputs": [],
      "source": [
        "a = np.array([1,2,3])         # has shape (3,): one dimension\n",
        "b = np.array([[4], [5], [6]]) # has shape (3,1): two dimensions\n",
        "c = a + b                     # will have shape (3,3) (two dimensions)"
      ],
      "id": "3e32bef1-4753-4893-89ca-4edc7288c766"
    },
    {
      "cell_type": "markdown",
      "metadata": {
        "id": "d148066a-992b-4b46-9944-0cce3ac61189"
      },
      "source": [
        "**Rule 2**: If the shape of the two arrays does not match in any dimension, the array with shape equal to 1 in that dimension is stretched to match the other shape.\n",
        "\n",
        "For example, in the following cell `a` will be implicitly extended to shape (3,2):"
      ],
      "id": "d148066a-992b-4b46-9944-0cce3ac61189"
    },
    {
      "cell_type": "code",
      "execution_count": null,
      "metadata": {
        "id": "3ce72464-c36b-45e5-8de5-f24eb11c63fb"
      },
      "outputs": [],
      "source": [
        "a = np.array([[1],[2],[3]])         # has shape (3,1)\n",
        "b = np.array([[4,5], [6,7], [8,9]]) # has shape (3,2)\n",
        "c = a + b                           # will have shape (3,2)"
      ],
      "id": "3ce72464-c36b-45e5-8de5-f24eb11c63fb"
    },
    {
      "cell_type": "markdown",
      "metadata": {
        "id": "3cc70138-0b7f-4a3c-a561-416491b24704"
      },
      "source": [
        "**Rule 3**: If in any dimension the sizes disagree and neither is equal to 1, an error is raised:"
      ],
      "id": "3cc70138-0b7f-4a3c-a561-416491b24704"
    },
    {
      "cell_type": "code",
      "execution_count": null,
      "metadata": {
        "id": "c73f809a-5255-4958-b8af-f5c078838df5"
      },
      "outputs": [],
      "source": [
        "a = np.array([[1],[2],[3],[4]])      # has shape (4,1)\n",
        "b = np.array([[4,5], [6,7], [8,9]])  # has shape (3,2)\n",
        "c = a + b                            # ValueError: operands could not be broadcast"
      ],
      "id": "c73f809a-5255-4958-b8af-f5c078838df5"
    },
    {
      "cell_type": "markdown",
      "metadata": {
        "id": "9fcb707a-3ec0-4d0c-a1d3-7410a58262e2"
      },
      "source": [
        "For more detail, you can read the explanation from the [documentation](http://docs.scipy.org/doc/numpy/user/basics.broadcasting.html)."
      ],
      "id": "9fcb707a-3ec0-4d0c-a1d3-7410a58262e2"
    },
    {
      "cell_type": "markdown",
      "metadata": {
        "id": "bf330eac-6a83-4878-bfaa-f11f300928ac"
      },
      "source": [
        "Functions that support broadcasting are known as universal functions. You can find the list of all universal functions in the [documentation](http://docs.scipy.org/doc/numpy/reference/ufuncs.html#available-ufuncs)."
      ],
      "id": "bf330eac-6a83-4878-bfaa-f11f300928ac"
    },
    {
      "cell_type": "markdown",
      "metadata": {
        "id": "497f6be0-fc5e-4d99-aec4-2435498c61ea"
      },
      "source": [
        "Here are a few visual examples involving broadcasting.\n",
        "\n",
        "![](http://jalammar.github.io/images/numpy/numpy-array-broadcast.png)\n",
        "\n",
        "Note that these arrays are compatible in each dimension if they have either the same size in that dimension, or if one array has size 1 in that dimension.\n",
        "\n",
        "![](http://jalammar.github.io/images/numpy/numpy-matrix-broadcast.png)"
      ],
      "id": "497f6be0-fc5e-4d99-aec4-2435498c61ea"
    },
    {
      "cell_type": "markdown",
      "metadata": {
        "id": "cbc5165b-fc47-4e14-8b58-3012adbad24e"
      },
      "source": [
        "And here are some more practical applications:"
      ],
      "id": "cbc5165b-fc47-4e14-8b58-3012adbad24e"
    },
    {
      "cell_type": "code",
      "execution_count": null,
      "metadata": {
        "id": "e5636e31-b864-461e-b1bc-875549a857fa"
      },
      "outputs": [],
      "source": [
        "# Compute outer product of vectors\n",
        "v = np.array([1,2,3])  # v has shape (3,)\n",
        "w = np.array([4,5])    # w has shape (2,)\n",
        "# To compute an outer product, we first reshape v to be a column\n",
        "# vector of shape (3, 1); we can then broadcast it against w to yield\n",
        "# an output of shape (3, 2), which is the outer product of v and w:\n",
        "\n",
        "print(np.reshape(v, (3, 1)) * w)"
      ],
      "id": "e5636e31-b864-461e-b1bc-875549a857fa"
    },
    {
      "cell_type": "code",
      "execution_count": null,
      "metadata": {
        "id": "5fe4f55d-ad71-4f12-93d9-52e82790b8f0"
      },
      "outputs": [],
      "source": [
        "# Add a vector to each row of a matrix\n",
        "x = np.array([[1,2,3], [4,5,6]])\n",
        "# x has shape (2, 3) and v has shape (3,) so they broadcast to (2, 3),\n",
        "# giving the following matrix:\n",
        "\n",
        "print(x + v)"
      ],
      "id": "5fe4f55d-ad71-4f12-93d9-52e82790b8f0"
    },
    {
      "cell_type": "code",
      "execution_count": null,
      "metadata": {
        "id": "5b703d95-f109-4828-968f-6b3f42dd281e"
      },
      "outputs": [],
      "source": [
        "# Add a vector to each column of a matrix\n",
        "# x has shape (2, 3) and w has shape (2,).\n",
        "# If we transpose x then it has shape (3, 2) and can be broadcast\n",
        "# against w to yield a result of shape (3, 2); transposing this result\n",
        "# yields the final result of shape (2, 3) which is the matrix x with\n",
        "# the vector w added to each column. Gives the following matrix:\n",
        "\n",
        "print((x.T + w).T)"
      ],
      "id": "5b703d95-f109-4828-968f-6b3f42dd281e"
    },
    {
      "cell_type": "code",
      "execution_count": null,
      "metadata": {
        "id": "7f9e6053-4439-47cd-9890-e1607fa398fe"
      },
      "outputs": [],
      "source": [
        "# Another solution is to reshape w to be a row vector of shape (2, 1);\n",
        "# we can then broadcast it directly against x to produce the same\n",
        "# output.\n",
        "print(x + np.reshape(w, (2, 1)))"
      ],
      "id": "7f9e6053-4439-47cd-9890-e1607fa398fe"
    },
    {
      "cell_type": "code",
      "execution_count": null,
      "metadata": {
        "id": "2d4ac7f1-4aa5-445a-8cad-3cafc8946055"
      },
      "outputs": [],
      "source": [
        "# Multiply a matrix by a constant:\n",
        "# x has shape (2, 3). Numpy treats scalars as arrays of shape ();\n",
        "# these can be broadcast together to shape (2, 3), producing the\n",
        "# following array:\n",
        "print(x * 2)"
      ],
      "id": "2d4ac7f1-4aa5-445a-8cad-3cafc8946055"
    },
    {
      "cell_type": "markdown",
      "metadata": {
        "id": "a2b8e88d-856f-4bd2-b266-cc579edc202f"
      },
      "source": [
        "Broadcasting typically makes your code more concise and faster, so you should strive to use it where possible."
      ],
      "id": "a2b8e88d-856f-4bd2-b266-cc579edc202f"
    },
    {
      "cell_type": "markdown",
      "metadata": {
        "id": "ea213900-99db-4c10-9047-17abbb7b8772"
      },
      "source": [
        "This brief overview has touched on many of the important things that you need to know about numpy, but is far from complete. Check out the [numpy reference](http://docs.scipy.org/doc/numpy/reference/) to find out much more about numpy."
      ],
      "id": "ea213900-99db-4c10-9047-17abbb7b8772"
    },
    {
      "cell_type": "markdown",
      "metadata": {
        "id": "8c743bf9-95e7-4b21-8ef6-1d916db84104"
      },
      "source": [
        "## Matplotlib"
      ],
      "id": "8c743bf9-95e7-4b21-8ef6-1d916db84104"
    },
    {
      "cell_type": "markdown",
      "metadata": {
        "id": "8630b702-f57d-422f-8c40-7912f1465851"
      },
      "source": [
        "Matplotlib is a plotting library. In this section we give a brief introduction to the `matplotlib.pyplot` module, which provides a plotting system similar to that of MATLAB.\n",
        "\n",
        "By convention, we typically import this module using the `plt` alias:"
      ],
      "id": "8630b702-f57d-422f-8c40-7912f1465851"
    },
    {
      "cell_type": "code",
      "execution_count": null,
      "metadata": {
        "id": "e49c3713-edd0-4c57-b3dd-a50357bfa2c4"
      },
      "outputs": [],
      "source": [
        "import matplotlib.pyplot as plt"
      ],
      "id": "e49c3713-edd0-4c57-b3dd-a50357bfa2c4"
    },
    {
      "cell_type": "markdown",
      "metadata": {
        "id": "fdd662e3-04b1-4e56-8a9a-e15cec40b917"
      },
      "source": [
        "### Plotting"
      ],
      "id": "fdd662e3-04b1-4e56-8a9a-e15cec40b917"
    },
    {
      "cell_type": "markdown",
      "metadata": {
        "id": "4f966115-d35f-4981-9cf3-61985f2c7f02"
      },
      "source": [
        "The most important function in `matplotlib` is `plot`, which allows you to plot 2D data as a line plot. Here is a simple example:"
      ],
      "id": "4f966115-d35f-4981-9cf3-61985f2c7f02"
    },
    {
      "cell_type": "code",
      "execution_count": null,
      "metadata": {
        "id": "7a6e0ff6-ae4b-4a50-a472-b1b5c0b3da23"
      },
      "outputs": [],
      "source": [
        "# Compute the x and y coordinates for points on a sine curve\n",
        "x = np.arange(0, 3 * np.pi, 0.1)\n",
        "y = np.sin(x)\n",
        "\n",
        "# Plot the points using matplotlib\n",
        "plt.plot(x, y)\n",
        "\n",
        "# Show the figure.\n",
        "plt.show()"
      ],
      "id": "7a6e0ff6-ae4b-4a50-a472-b1b5c0b3da23"
    },
    {
      "cell_type": "markdown",
      "metadata": {
        "id": "18e74092-d88b-4330-9272-deda49e09c56"
      },
      "source": [
        "With just a little bit of extra work we can easily plot multiple lines at once, and add a title, legend, and axis labels:"
      ],
      "id": "18e74092-d88b-4330-9272-deda49e09c56"
    },
    {
      "cell_type": "code",
      "execution_count": null,
      "metadata": {
        "id": "3d63edc1-23b2-40cd-91c5-2c603be9801e"
      },
      "outputs": [],
      "source": [
        "y_sin = np.sin(x)\n",
        "y_cos = np.cos(x)\n",
        "\n",
        "# Plot the points using matplotlib\n",
        "plt.plot(x, y_sin, label='Sine')\n",
        "plt.plot(x, y_cos, label='Cosine')\n",
        "plt.legend() # uses the label arguments given above\n",
        "\n",
        "plt.xlabel('x axis label')\n",
        "plt.ylabel('y axis label')\n",
        "plt.title('Sine and Cosine')\n",
        "\n",
        "# Show the figure.\n",
        "plt.show()"
      ],
      "id": "3d63edc1-23b2-40cd-91c5-2c603be9801e"
    },
    {
      "cell_type": "markdown",
      "metadata": {
        "id": "d1aded07-7334-400d-bd72-22a2a60a65d8"
      },
      "source": [
        "Another useful, basic, plot is the `scatter` plot:"
      ],
      "id": "d1aded07-7334-400d-bd72-22a2a60a65d8"
    },
    {
      "cell_type": "code",
      "execution_count": null,
      "metadata": {
        "id": "04fc2f05-e3b6-4146-afca-7b039af7d605"
      },
      "outputs": [],
      "source": [
        "x = np.random.rand(50)\n",
        "y = np.random.rand(50)\n",
        "colors = np.random.randint(0, 2, 50)\n",
        "\n",
        "plt.scatter(x, y, c=colors)\n",
        "\n",
        "plt.show()"
      ],
      "id": "04fc2f05-e3b6-4146-afca-7b039af7d605"
    },
    {
      "cell_type": "markdown",
      "metadata": {
        "id": "8ebcd0b4-ba3b-4287-8ce6-b7c57492415b"
      },
      "source": [
        "When there is no logical connection between adjacent points (for example: if the horizontal axis is a categorical variable without a logical order), then you should *not* connect them (as in a line plot), since this implies a relationship that does not exist! Instead, you would use a scatter plot."
      ],
      "id": "8ebcd0b4-ba3b-4287-8ce6-b7c57492415b"
    },
    {
      "cell_type": "markdown",
      "metadata": {
        "id": "ecde9d53-8ad0-4b55-abce-a23e15e1e1f9"
      },
      "source": [
        "### Subplots"
      ],
      "id": "ecde9d53-8ad0-4b55-abce-a23e15e1e1f9"
    },
    {
      "cell_type": "markdown",
      "metadata": {
        "id": "baf993cc-1f30-464e-a4ed-d93d57dadfa0"
      },
      "source": [
        "You can plot different things in the same figure using the `subplot` function. Here is an example:"
      ],
      "id": "baf993cc-1f30-464e-a4ed-d93d57dadfa0"
    },
    {
      "cell_type": "code",
      "execution_count": null,
      "metadata": {
        "id": "e83de13a-ad4f-41a0-b708-cc34787a711b"
      },
      "outputs": [],
      "source": [
        "# Compute the x and y coordinates for points on sine and cosine curves\n",
        "x = np.arange(0, 3 * np.pi, 0.1)\n",
        "y_sin = np.sin(x)\n",
        "y_cos = np.cos(x)\n",
        "\n",
        "# Set up a subplot grid that has height 2 and width 1,\n",
        "# and set the first such subplot as active.\n",
        "plt.subplot(2, 1, 1)\n",
        "\n",
        "# Make the first plot\n",
        "plt.plot(x, y_sin)\n",
        "plt.title('Sine')\n",
        "\n",
        "# Set the second subplot as active, and make the second plot.\n",
        "plt.subplot(2, 1, 2)\n",
        "plt.plot(x, y_cos)\n",
        "plt.title('Cosine')\n",
        "\n",
        "# Adjust spacing between subplots\n",
        "plt.subplots_adjust(hspace = 0.4)\n",
        "\n",
        "# Show the figure.\n",
        "plt.show()"
      ],
      "id": "e83de13a-ad4f-41a0-b708-cc34787a711b"
    },
    {
      "cell_type": "markdown",
      "metadata": {
        "id": "791ff577-24b4-4e64-8075-c8492e3592dd"
      },
      "source": [
        "You can read much more about the `subplot` function in the [documentation](http://matplotlib.org/api/pyplot_api.html#matplotlib.pyplot.subplot)."
      ],
      "id": "791ff577-24b4-4e64-8075-c8492e3592dd"
    },
    {
      "cell_type": "markdown",
      "metadata": {
        "id": "cbfae954-52ab-4efe-86f4-3553e0f799c9"
      },
      "source": [
        "You can use the `imshow` function to display images from a file. Here is an example:"
      ],
      "id": "cbfae954-52ab-4efe-86f4-3553e0f799c9"
    },
    {
      "cell_type": "code",
      "execution_count": null,
      "metadata": {
        "id": "9f536a15-9dd3-4283-95ff-6a05309175d5"
      },
      "outputs": [],
      "source": [
        "from matplotlib.cbook import get_sample_data\n",
        "\n",
        "img_file = get_sample_data('grace_hopper.jpg')\n",
        "\n",
        "img = plt.imread(img_file)\n",
        "plt.imshow(img)\n",
        "plt.show()"
      ],
      "id": "9f536a15-9dd3-4283-95ff-6a05309175d5"
    },
    {
      "cell_type": "markdown",
      "metadata": {
        "id": "825162e7-0cb0-4ff1-b687-340b9332f8ef"
      },
      "source": [
        "The `matplotlib` library is very flexible, and you can create virtually any plot and modify its appearance in any way you might think of. If you don’t like the way your plot looks, fix it! Use the [documentation](http://matplotlib.org/api/pyplot_api.html) to learn more."
      ],
      "id": "825162e7-0cb0-4ff1-b687-340b9332f8ef"
    }
  ],
  "nbformat": 4,
  "nbformat_minor": 5,
  "metadata": {
    "colab": {
      "provenance": [],
      "include_colab_link": true
    },
    "language_info": {
      "name": "python"
    },
    "kernelspec": {
      "name": "python3",
      "display_name": "Python 3"
    }
  }
}