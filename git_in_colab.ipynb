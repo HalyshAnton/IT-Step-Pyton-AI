{
  "nbformat": 4,
  "nbformat_minor": 0,
  "metadata": {
    "colab": {
      "provenance": [],
      "authorship_tag": "ABX9TyPEq1fOljfkvOHnexA/FSPg",
      "include_colab_link": true
    },
    "kernelspec": {
      "name": "python3",
      "display_name": "Python 3"
    },
    "language_info": {
      "name": "python"
    }
  },
  "cells": [
    {
      "cell_type": "markdown",
      "metadata": {
        "id": "view-in-github",
        "colab_type": "text"
      },
      "source": [
        "<a href=\"https://colab.research.google.com/github/HalyshAnton/IT-Step-Pyton-AI/blob/main/git_in_colab.ipynb\" target=\"_parent\"><img src=\"https://colab.research.google.com/assets/colab-badge.svg\" alt=\"Open In Colab\"/></a>"
      ]
    },
    {
      "cell_type": "markdown",
      "source": [
        "Як отримати токен дивись [тут](https://www.youtube.com/watch?v=eLhy3_d2UPo&t=194s)"
      ],
      "metadata": {
        "id": "9IiSYTw8AF8M"
      }
    },
    {
      "cell_type": "code",
      "source": [
        "!git config --global user.name \"\"\n",
        "!git config --global user.email \"\"\n",
        "!git config --global user.pasword \"\""
      ],
      "metadata": {
        "id": "fYsQ-fUtFLkA"
      },
      "execution_count": null,
      "outputs": []
    },
    {
      "cell_type": "code",
      "source": [
        "token = \"\"\n",
        "username = \"\"\n",
        "repo = \"\""
      ],
      "metadata": {
        "id": "luOaqwqepi4a"
      },
      "execution_count": null,
      "outputs": []
    },
    {
      "cell_type": "code",
      "source": [
        "!git clone https://{token}@github.com/{username}/{repo}"
      ],
      "metadata": {
        "id": "oTTm3obHmXv4"
      },
      "execution_count": null,
      "outputs": []
    },
    {
      "cell_type": "code",
      "source": [
        "cd {repo}"
      ],
      "metadata": {
        "id": "KQeHU4zxD5FQ"
      },
      "execution_count": null,
      "outputs": []
    },
    {
      "cell_type": "code",
      "source": [
        "## Your code"
      ],
      "metadata": {
        "id": "oG72-1CNEJR9"
      },
      "execution_count": null,
      "outputs": []
    },
    {
      "cell_type": "code",
      "source": [
        "!git add --all\n",
        "!git commit -a -m \"\""
      ],
      "metadata": {
        "id": "cCEYHxCPEZsy"
      },
      "execution_count": null,
      "outputs": []
    },
    {
      "cell_type": "code",
      "source": [
        "!git status"
      ],
      "metadata": {
        "id": "tDfdomGRExuR"
      },
      "execution_count": null,
      "outputs": []
    },
    {
      "cell_type": "code",
      "source": [
        "!git remote -v"
      ],
      "metadata": {
        "id": "QuVEYo_GqpGY"
      },
      "execution_count": null,
      "outputs": []
    },
    {
      "cell_type": "code",
      "source": [
        "!git push"
      ],
      "metadata": {
        "id": "MkGeZB7ZFlCh"
      },
      "execution_count": null,
      "outputs": []
    },
    {
      "cell_type": "code",
      "source": [
        "!git log"
      ],
      "metadata": {
        "id": "2xztERg9F9XL"
      },
      "execution_count": null,
      "outputs": []
    }
  ]
}