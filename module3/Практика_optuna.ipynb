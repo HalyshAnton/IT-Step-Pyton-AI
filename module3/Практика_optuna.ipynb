{
  "nbformat": 4,
  "nbformat_minor": 0,
  "metadata": {
    "colab": {
      "provenance": [],
      "authorship_tag": "ABX9TyMn0F55Rk9caz/XiMCM1Z5j",
      "include_colab_link": true
    },
    "kernelspec": {
      "name": "python3",
      "display_name": "Python 3"
    },
    "language_info": {
      "name": "python"
    }
  },
  "cells": [
    {
      "cell_type": "markdown",
      "metadata": {
        "id": "view-in-github",
        "colab_type": "text"
      },
      "source": [
        "<a href=\"https://colab.research.google.com/github/HalyshAnton/IT-Step-Pyton-AI/blob/main/module3/%D0%9F%D1%80%D0%B0%D0%BA%D1%82%D0%B8%D0%BA%D0%B0_optuna.ipynb\" target=\"_parent\"><img src=\"https://colab.research.google.com/assets/colab-badge.svg\" alt=\"Open In Colab\"/></a>"
      ]
    },
    {
      "cell_type": "markdown",
      "source": [
        "Ваша задача спрогнозувати дохід ресторану в межах змагання на kaggle\n",
        "\n",
        "[посилання](https://www.kaggle.com/competitions/restaurant-revenue-prediction/data)\n",
        "\n",
        "Перейшовши за посиланням, натисність кнопку `Late Submission`"
      ],
      "metadata": {
        "id": "PyPWP69bSWRG"
      }
    },
    {
      "cell_type": "markdown",
      "source": [
        "Для завантаження даних використайте наступний код, ваша цільова ознака це стовпчик `Revenue`"
      ],
      "metadata": {
        "id": "5qTJ_saKStOa"
      }
    },
    {
      "cell_type": "code",
      "execution_count": null,
      "metadata": {
        "id": "aJMGZTJAKJXt"
      },
      "outputs": [],
      "source": [
        "train = pd.read_csv(r\"/kaggle/input/restaurant-revenue-prediction/train.csv.zip\")\n",
        "test = pd.read_csv(r\"/kaggle/input/restaurant-revenue-prediction/test.csv.zip\")\n",
        "sub = pd.read_csv(r\"/kaggle/input/restaurant-revenue-prediction/sampleSubmission.csv\")\n"
      ]
    }
  ]
}