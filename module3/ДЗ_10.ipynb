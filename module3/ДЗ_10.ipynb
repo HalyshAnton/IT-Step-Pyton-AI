{
  "nbformat": 4,
  "nbformat_minor": 0,
  "metadata": {
    "colab": {
      "provenance": [],
      "authorship_tag": "ABX9TyNZVBZ/xvpbc8N0loe/cDIt",
      "include_colab_link": true
    },
    "kernelspec": {
      "name": "python3",
      "display_name": "Python 3"
    },
    "language_info": {
      "name": "python"
    }
  },
  "cells": [
    {
      "cell_type": "markdown",
      "metadata": {
        "id": "view-in-github",
        "colab_type": "text"
      },
      "source": [
        "<a href=\"https://colab.research.google.com/github/HalyshAnton/IT-Step-Pyton-AI/blob/main/module3/%D0%94%D0%97_10.ipynb\" target=\"_parent\"><img src=\"https://colab.research.google.com/assets/colab-badge.svg\" alt=\"Open In Colab\"/></a>"
      ]
    },
    {
      "cell_type": "markdown",
      "source": [
        "Ваша задача спрогнозувати твердість мінералу в межах змагання на kaggle\n",
        "\n",
        "[посилання](https://www.kaggle.com/competitions/playground-series-s3e25/data)\n",
        "\n",
        "Перейшовши за посиланням, натисність кнопку `Late Submission`"
      ],
      "metadata": {
        "id": "PyPWP69bSWRG"
      }
    },
    {
      "cell_type": "markdown",
      "source": [
        "Для завантаження даних використайте наступний код, ваша цільова ознака це стовпчик `Revenue`"
      ],
      "metadata": {
        "id": "5qTJ_saKStOa"
      }
    },
    {
      "cell_type": "code",
      "execution_count": null,
      "metadata": {
        "id": "aJMGZTJAKJXt"
      },
      "outputs": [],
      "source": [
        "train_data=pd.read_csv('/kaggle/input/playground-series-s3e25/train.csv')\n",
        "test_data=pd.read_csv('/kaggle/input/playground-series-s3e25/test.csv')\n"
      ]
    }
  ]
}