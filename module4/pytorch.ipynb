{
  "nbformat": 4,
  "nbformat_minor": 0,
  "metadata": {
    "colab": {
      "provenance": [],
      "toc_visible": true,
      "gpuType": "T4",
      "authorship_tag": "ABX9TyN9znoNxsiUfNJUzq9hl/Bs",
      "include_colab_link": true
    },
    "kernelspec": {
      "name": "python3",
      "display_name": "Python 3"
    },
    "language_info": {
      "name": "python"
    },
    "accelerator": "GPU"
  },
  "cells": [
    {
      "cell_type": "markdown",
      "metadata": {
        "id": "view-in-github",
        "colab_type": "text"
      },
      "source": [
        "<a href=\"https://colab.research.google.com/github/HalyshAnton/IT-Step-Pyton-AI/blob/main/module4/pytorch.ipynb\" target=\"_parent\"><img src=\"https://colab.research.google.com/assets/colab-badge.svg\" alt=\"Open In Colab\"/></a>"
      ]
    },
    {
      "cell_type": "markdown",
      "source": [
        "# Тензор\n",
        "\n",
        "Tensor - це багатовимірний масив даних в PyTorch. Він схожий на\n",
        "Numpy array, але має ряд ключових відмінностей:\n",
        "\n",
        "* **Динамічна типізація:** Тензор PyTorch може мати різні типи\n",
        "    даних (наприклад, float, int, bool),\n",
        "    на відміну від Numpy array, де тип\n",
        "    даних фіксується при створенні.\n",
        "* **Підтримка GPU:** Тензори PyTorch можуть\n",
        "    використовуватися на GPU\n",
        "    для прискорення обчислень,\n",
        "    що недоступно в Numpy.\n",
        "* **Градієнти:** Тензори PyTorch\n",
        "    підтримують градієнти,\n",
        "    що робить їх зручними\n",
        "    для використання в\n",
        "    нейронних мережах."
      ],
      "metadata": {
        "id": "8g8hf7wwWFOc"
      }
    },
    {
      "cell_type": "markdown",
      "source": [
        "# Створення тензорів"
      ],
      "metadata": {
        "id": "KVrvyV2EWS8g"
      }
    },
    {
      "cell_type": "markdown",
      "source": [
        "**З Numpy array**"
      ],
      "metadata": {
        "id": "t8J19P5tWb-P"
      }
    },
    {
      "cell_type": "code",
      "source": [
        "import torch\n",
        "import numpy as np\n",
        "\n",
        "a = np.array([[1, 2, 3], [4, 5, 6]])\n",
        "tensor_a = torch.from_numpy(a)\n",
        "\n",
        "print(tensor_a, '\\n')\n",
        "\n",
        "print(f'{tensor_a.shape=}\\n')\n",
        "\n",
        "print(f'{tensor_a.size()=}')"
      ],
      "metadata": {
        "colab": {
          "base_uri": "https://localhost:8080/"
        },
        "id": "Gruc3khoWYCI",
        "outputId": "7011b609-77e0-44eb-cb9c-d9f44d37a6e3"
      },
      "execution_count": 8,
      "outputs": [
        {
          "output_type": "stream",
          "name": "stdout",
          "text": [
            "tensor([[1, 2, 3],\n",
            "        [4, 5, 6]]) \n",
            "\n",
            "tensor_a.shape=torch.Size([2, 3])\n",
            "\n",
            "tensor_a.size()=torch.Size([2, 3])\n"
          ]
        }
      ]
    },
    {
      "cell_type": "markdown",
      "source": [
        "**З списків:**"
      ],
      "metadata": {
        "id": "QAIpdDEwWk9P"
      }
    },
    {
      "cell_type": "code",
      "source": [
        "tensor_b = torch.tensor([[1, 2, 3], [4, 5, 6]])\n",
        "\n",
        "tensor_b"
      ],
      "metadata": {
        "colab": {
          "base_uri": "https://localhost:8080/"
        },
        "id": "NlbWkTJEWowv",
        "outputId": "82562e31-8c0a-4ade-8cad-8befc845b0cc"
      },
      "execution_count": 2,
      "outputs": [
        {
          "output_type": "execute_result",
          "data": {
            "text/plain": [
              "tensor([[1, 2, 3],\n",
              "        [4, 5, 6]])"
            ]
          },
          "metadata": {},
          "execution_count": 2
        }
      ]
    },
    {
      "cell_type": "markdown",
      "source": [
        "**З функцій:**"
      ],
      "metadata": {
        "id": "C6x-R7zeWw3P"
      }
    },
    {
      "cell_type": "code",
      "source": [
        "tensor_c = torch.randn(3, 4)  # Випадкові числа\n",
        "tensor_d = torch.zeros(3, 4)  # Нулі\n",
        "tensor_e = torch.ones(3, 4)  # Одиниці\n",
        "\n",
        "print(f'rand {tensor_c}\\n')\n",
        "print(f'zero {tensor_d}\\n')\n",
        "print(f'one {tensor_e}\\n')"
      ],
      "metadata": {
        "colab": {
          "base_uri": "https://localhost:8080/"
        },
        "id": "uCau57fIW2I6",
        "outputId": "47401acc-0e2a-4ca0-c60a-99628acbfd35"
      },
      "execution_count": 3,
      "outputs": [
        {
          "output_type": "stream",
          "name": "stdout",
          "text": [
            "rand tensor([[-1.1215,  0.5712,  2.8533,  0.8421],\n",
            "        [ 2.1251,  0.7513, -1.0559, -0.5860],\n",
            "        [-0.5123,  0.9298,  0.0207,  1.6199]])\n",
            "\n",
            "zero tensor([[0., 0., 0., 0.],\n",
            "        [0., 0., 0., 0.],\n",
            "        [0., 0., 0., 0.]])\n",
            "\n",
            "one tensor([[1., 1., 1., 1.],\n",
            "        [1., 1., 1., 1.],\n",
            "        [1., 1., 1., 1.]])\n",
            "\n"
          ]
        }
      ]
    },
    {
      "cell_type": "markdown",
      "source": [
        "# Індексування тензорів"
      ],
      "metadata": {
        "id": "l2GC2uEaXb3r"
      }
    },
    {
      "cell_type": "code",
      "source": [
        "tensor = torch.tensor([[1, 2, 3], [4, 5, 6]])\n",
        "print(f'{tensor=}\\n')\n",
        "\n",
        "# Отримати значення з тензора\n",
        "value = tensor[0, 1]  # 2\n",
        "print(f'{value=}\\n')\n",
        "\n",
        "# Отримати рядок\n",
        "row = tensor[0]  # tensor([1, 2, 3])\n",
        "print(f'{row=}\\n')\n",
        "\n",
        "# Отримати стовпець\n",
        "column = tensor[:, 1]  # tensor([2, 5])\n",
        "print(f'{column=}\\n')\n",
        "\n",
        "# Зміна значення\n",
        "tensor[0, 1] = 10\n",
        "print(f'{tensor=}\\n')\n",
        "\n",
        "# Зріз тензора\n",
        "sub_tensor = tensor[0:2, 1:3]  # tensor([[2, 3], [5, 6]])\n",
        "print(f'{sub_tensor=}\\n')"
      ],
      "metadata": {
        "colab": {
          "base_uri": "https://localhost:8080/"
        },
        "id": "BWxuXez5XbEh",
        "outputId": "228e4865-3fa0-43cd-cbc9-44cec781d997"
      },
      "execution_count": 4,
      "outputs": [
        {
          "output_type": "stream",
          "name": "stdout",
          "text": [
            "tensor=tensor([[1, 2, 3],\n",
            "        [4, 5, 6]])\n",
            "\n",
            "value=tensor(2)\n",
            "\n",
            "row=tensor([1, 2, 3])\n",
            "\n",
            "column=tensor([2, 5])\n",
            "\n",
            "tensor=tensor([[ 1, 10,  3],\n",
            "        [ 4,  5,  6]])\n",
            "\n",
            "sub_tensor=tensor([[10,  3],\n",
            "        [ 5,  6]])\n",
            "\n"
          ]
        }
      ]
    },
    {
      "cell_type": "markdown",
      "source": [
        "**1. `item()`:**\n",
        "\n",
        "* Використовується для **отримання** **значення**\n",
        "    з **скалярного тензора**(тобто просто число).\n",
        "* **Не** використовується для тензорів\n",
        "    з **більшою розмірністю**,\n",
        "    тому що призведе до помилки.\n"
      ],
      "metadata": {
        "id": "1jCSKUNicFNT"
      }
    },
    {
      "cell_type": "code",
      "source": [
        "value.item()"
      ],
      "metadata": {
        "colab": {
          "base_uri": "https://localhost:8080/"
        },
        "id": "DPNsaNxHczzZ",
        "outputId": "d999327e-f218-47b0-f60a-078bf7011b80"
      },
      "execution_count": 5,
      "outputs": [
        {
          "output_type": "execute_result",
          "data": {
            "text/plain": [
              "10"
            ]
          },
          "metadata": {},
          "execution_count": 5
        }
      ]
    },
    {
      "cell_type": "code",
      "source": [
        "tensor.item()"
      ],
      "metadata": {
        "colab": {
          "base_uri": "https://localhost:8080/",
          "height": 141
        },
        "id": "DYOZN0jqc8dw",
        "outputId": "e49ffe3b-6692-4b3c-f2f6-2f72ad4ebc2d"
      },
      "execution_count": 6,
      "outputs": [
        {
          "output_type": "error",
          "ename": "RuntimeError",
          "evalue": "a Tensor with 6 elements cannot be converted to Scalar",
          "traceback": [
            "\u001b[0;31m---------------------------------------------------------------------------\u001b[0m",
            "\u001b[0;31mRuntimeError\u001b[0m                              Traceback (most recent call last)",
            "\u001b[0;32m<ipython-input-6-ef35f00d76e4>\u001b[0m in \u001b[0;36m<cell line: 1>\u001b[0;34m()\u001b[0m\n\u001b[0;32m----> 1\u001b[0;31m \u001b[0mtensor\u001b[0m\u001b[0;34m.\u001b[0m\u001b[0mitem\u001b[0m\u001b[0;34m(\u001b[0m\u001b[0;34m)\u001b[0m\u001b[0;34m\u001b[0m\u001b[0;34m\u001b[0m\u001b[0m\n\u001b[0m",
            "\u001b[0;31mRuntimeError\u001b[0m: a Tensor with 6 elements cannot be converted to Scalar"
          ]
        }
      ]
    },
    {
      "cell_type": "markdown",
      "source": [
        "**2. `numpy()`:**\n",
        "\n",
        "* Використовується для **перетворення**\n",
        "    тензора PyTorch в **Numpy array**.\n",
        "* Може використовуватися для тензорів\n",
        "    **з будь-якою розмірністю**."
      ],
      "metadata": {
        "id": "-fPoRCE1cvYH"
      }
    },
    {
      "cell_type": "code",
      "source": [
        "tensor.numpy()"
      ],
      "metadata": {
        "colab": {
          "base_uri": "https://localhost:8080/"
        },
        "id": "RiVF8gHJblkB",
        "outputId": "5788f852-2d0f-4f20-8d18-18c076e1e4e7"
      },
      "execution_count": 9,
      "outputs": [
        {
          "output_type": "execute_result",
          "data": {
            "text/plain": [
              "array([[ 1, 10,  3],\n",
              "       [ 4,  5,  6]])"
            ]
          },
          "metadata": {},
          "execution_count": 9
        }
      ]
    },
    {
      "cell_type": "markdown",
      "source": [
        "#Арифметичні операції та функції"
      ],
      "metadata": {
        "id": "9J6S9ECeXlyT"
      }
    },
    {
      "cell_type": "code",
      "source": [
        "tensor_a = torch.tensor([1, 2, 3])\n",
        "tensor_b = torch.tensor([4, 5, 6])\n",
        "\n",
        "# Додавання\n",
        "tensor_c = tensor_a + tensor_b  # tensor([5, 7, 9])\n",
        "\n",
        "# Множення\n",
        "tensor_d = tensor_a * tensor_b  # tensor([4, 10, 18])\n",
        "\n",
        "# Функції\n",
        "tensor_e = torch.sin(tensor_a)  # tensor([0.84147099, 0.90929743, 0.14112001])"
      ],
      "metadata": {
        "id": "aVpWagPJXq3_"
      },
      "execution_count": 10,
      "outputs": []
    },
    {
      "cell_type": "markdown",
      "source": [
        "#Зміна розмірів"
      ],
      "metadata": {
        "id": "5HvE25BnXvIy"
      }
    },
    {
      "cell_type": "markdown",
      "source": [
        "**`view`:** Зміна розміру тензора без зміни його даних.\n",
        "\n",
        "Використовувати по можливості, якщо виникатимуть помилки, то використати `reshape`"
      ],
      "metadata": {
        "id": "qhNhFpIeXxmR"
      }
    },
    {
      "cell_type": "code",
      "source": [
        "tensor = torch.tensor([[1, 2, 3], [4, 5, 6]])\n",
        "print(tensor)\n",
        "\n",
        "# Зміна форми з (2, 3) на (3, 2)\n",
        "tensor_view = tensor.view(3, 2)"
      ],
      "metadata": {
        "colab": {
          "base_uri": "https://localhost:8080/"
        },
        "id": "JJzrPagPX0Xg",
        "outputId": "1771512d-00b1-4deb-d728-07cc8de9c2d8"
      },
      "execution_count": 11,
      "outputs": [
        {
          "output_type": "stream",
          "name": "stdout",
          "text": [
            "tensor([[1, 2, 3],\n",
            "        [4, 5, 6]])\n"
          ]
        }
      ]
    },
    {
      "cell_type": "code",
      "source": [
        "tensor_view += 1\n",
        "\n",
        "tensor"
      ],
      "metadata": {
        "colab": {
          "base_uri": "https://localhost:8080/"
        },
        "id": "_JcjbIU6X2ZF",
        "outputId": "363c0230-3bf4-4443-d60e-a60ab48b4909"
      },
      "execution_count": 12,
      "outputs": [
        {
          "output_type": "execute_result",
          "data": {
            "text/plain": [
              "tensor([[2, 3, 4],\n",
              "        [5, 6, 7]])"
            ]
          },
          "metadata": {},
          "execution_count": 12
        }
      ]
    },
    {
      "cell_type": "markdown",
      "source": [
        "**`reshape`:** Зміна розміру тензора з можливістю зміни його даних.\n",
        "\n",
        "Згідно документації, коли можливо створює `view`"
      ],
      "metadata": {
        "id": "zM_GLlu9X-QY"
      }
    },
    {
      "cell_type": "code",
      "source": [
        "tensor = torch.tensor([[1, 2, 3], [4, 5, 6]])\n",
        "\n",
        "# Зміна форми з (2, 3) на (3, 2)\n",
        "tensor_view = tensor.reshape(3, 2)"
      ],
      "metadata": {
        "id": "DiKeHOuNYA-X"
      },
      "execution_count": 13,
      "outputs": []
    },
    {
      "cell_type": "code",
      "source": [
        "tensor_view += 1\n",
        "\n",
        "tensor"
      ],
      "metadata": {
        "colab": {
          "base_uri": "https://localhost:8080/"
        },
        "id": "Fg0kuCRFYA-Y",
        "outputId": "a48cf14c-a870-41ef-954a-7c571c098b09"
      },
      "execution_count": 14,
      "outputs": [
        {
          "output_type": "execute_result",
          "data": {
            "text/plain": [
              "tensor([[2, 3, 4],\n",
              "        [5, 6, 7]])"
            ]
          },
          "metadata": {},
          "execution_count": 14
        }
      ]
    },
    {
      "cell_type": "markdown",
      "source": [
        "# Конкатенація тензорів"
      ],
      "metadata": {
        "id": "stuiLyaBYJsj"
      }
    },
    {
      "cell_type": "markdown",
      "source": [
        "**`torch.cat`:** З'єднує тензори по заданій розмірності\n",
        "\n",
        "роль `axis` з numpy тут виконує параметр `dim`"
      ],
      "metadata": {
        "id": "4OV-f_MSYMGK"
      }
    },
    {
      "cell_type": "code",
      "source": [
        "tensor_a = torch.tensor([[1, 2], [3, 4]])\n",
        "tensor_b = torch.tensor([[5, 6], [7, 8]])\n",
        "\n",
        "# З'єднання по вертикалі (dim=0)\n",
        "tensor_c = torch.cat((tensor_a, tensor_b), dim=0)"
      ],
      "metadata": {
        "id": "OZZl-0oQYXTc"
      },
      "execution_count": 15,
      "outputs": []
    },
    {
      "cell_type": "markdown",
      "source": [
        "# Device\n",
        "\n",
        "**Device** в PyTorch - це абстракція,\n",
        "що використовується для опису\n",
        "**місця розташування** даних\n",
        "тензора. Це може бути **CPU**\n",
        "або **GPU**."
      ],
      "metadata": {
        "id": "zS3esjgrfcxP"
      }
    },
    {
      "cell_type": "markdown",
      "source": [
        "## Перегляд інформації про device:\n",
        "\n",
        "* `torch.cuda.is_available()`:\n",
        "    Перевіряє, чи доступний\n",
        "    GPU.\n",
        "* `torch.cuda.device_count()`:\n",
        "    Отримує кількість\n",
        "    доступних GPU.\n",
        "* `torch.cuda.get_device_name(device)`:\n",
        "    Отримує назву\n",
        "    конкретного GPU.\n",
        "* `.device`: Атрибут тензора,\n",
        "    що показує, на\n",
        "    якому device він\n",
        "    розташований."
      ],
      "metadata": {
        "id": "O7sZuf1Ffcf_"
      }
    },
    {
      "cell_type": "code",
      "source": [
        "print(torch.cuda.is_available())  # True/False\n",
        "\n",
        "if torch.cuda.is_available():\n",
        "    print(torch.cuda.device_count())  # Кількість GPU\n",
        "    print(torch.cuda.get_device_name(0))  # Назва першого GPU\n",
        "\n",
        "tensor = torch.tensor([1, 2, 3])\n",
        "print(tensor.device)  # CPU"
      ],
      "metadata": {
        "colab": {
          "base_uri": "https://localhost:8080/"
        },
        "id": "V96ZENUYfiUj",
        "outputId": "aea243b8-765a-427a-97fc-7c8b9a3923dc"
      },
      "execution_count": 16,
      "outputs": [
        {
          "output_type": "stream",
          "name": "stdout",
          "text": [
            "True\n",
            "1\n",
            "Tesla T4\n",
            "cpu\n"
          ]
        }
      ]
    },
    {
      "cell_type": "markdown",
      "source": [
        "## Підключення тензора до device\n",
        "\n",
        "* `.to(device)`: Переміщує\n",
        "    тензор на\n",
        "    заданий device."
      ],
      "metadata": {
        "id": "HKtNgYMufrWn"
      }
    },
    {
      "cell_type": "code",
      "source": [
        "device = torch.device('cuda' if torch.cuda.is_available() else 'cpu')\n",
        "\n",
        "tensor = torch.tensor([1, 2, 3])\n",
        "tensor = tensor.to(device)\n",
        "\n",
        "tensor"
      ],
      "metadata": {
        "colab": {
          "base_uri": "https://localhost:8080/"
        },
        "id": "QL7rvfKLfr-h",
        "outputId": "2b3766b0-fc95-4919-8327-8aa553971c8f"
      },
      "execution_count": 24,
      "outputs": [
        {
          "output_type": "execute_result",
          "data": {
            "text/plain": [
              "tensor([1, 2, 3], device='cuda:0')"
            ]
          },
          "metadata": {},
          "execution_count": 24
        }
      ]
    },
    {
      "cell_type": "code",
      "source": [
        "device"
      ],
      "metadata": {
        "id": "88XpM5rLJeAi",
        "outputId": "fc239175-731f-4c20-dab1-491ef81d8314",
        "colab": {
          "base_uri": "https://localhost:8080/"
        }
      },
      "execution_count": 21,
      "outputs": [
        {
          "output_type": "execute_result",
          "data": {
            "text/plain": [
              "device(type='cuda')"
            ]
          },
          "metadata": {},
          "execution_count": 21
        }
      ]
    },
    {
      "cell_type": "code",
      "source": [
        "tensor = torch.tensor([1, 2, 3], device=device)\n",
        "tensor"
      ],
      "metadata": {
        "id": "F_gbJJ_9gHwU",
        "outputId": "9cccaadf-2b56-410b-af7b-56d46b8f4328",
        "colab": {
          "base_uri": "https://localhost:8080/"
        }
      },
      "execution_count": 22,
      "outputs": [
        {
          "output_type": "execute_result",
          "data": {
            "text/plain": [
              "tensor([1, 2, 3], device='cuda:0')"
            ]
          },
          "metadata": {},
          "execution_count": 22
        }
      ]
    },
    {
      "cell_type": "markdown",
      "source": [
        "# Градієнтний спуск"
      ],
      "metadata": {
        "id": "bLDmYZVKhHoX"
      }
    },
    {
      "cell_type": "markdown",
      "source": [
        "## Задача мінімізації\n",
        "\n",
        "Градієнтний спуск - це ітераційний алгоритм\n",
        "для **оптимізації** **функції**,\n",
        "що знаходить **мінімальне значення**\n",
        "цієї функції.\n",
        "\n",
        "**Формулювання задачі:**\n",
        "\n",
        "* **Функція:** $f(x)$\n",
        "* **Змінна:** $x$\n",
        "* **Мета:** Знайти $x_{min}$, таке, що $f(x_{min}) \\leq f(x)$ для всіх $x$"
      ],
      "metadata": {
        "id": "seOlCTxZhM_l"
      }
    },
    {
      "cell_type": "markdown",
      "source": [
        "## Градієнт\n",
        "\n",
        "**Градієнт** - це вектор,\n",
        "що показує **напрямок**\n",
        "**найбільшого зростання**\n",
        "**багатовимірної**\n",
        "**функції**.\n",
        "\n",
        "\n",
        "Позначається так: $\\nabla f(x)$"
      ],
      "metadata": {
        "id": "by-v7M3Qh4iP"
      }
    },
    {
      "cell_type": "markdown",
      "source": [
        "Щоб вказати, що для даного тензора потрібно вказати `requires_grad`\n",
        "\n",
        "Примітка: лише для тензорів з даними типу `float`"
      ],
      "metadata": {
        "id": "7TUGLKL2iixM"
      }
    },
    {
      "cell_type": "code",
      "source": [
        "tensor1 = torch.tensor(1.0, requires_grad=True)\n",
        "print(f'{tensor1=}')\n",
        "\n",
        "# або через атрибут\n",
        "tensor2 = torch.tensor([1., 2., 3.])\n",
        "tensor2.requires_grad = True\n",
        "print(f'{tensor2=}')"
      ],
      "metadata": {
        "colab": {
          "base_uri": "https://localhost:8080/"
        },
        "id": "C0BAl10FibiR",
        "outputId": "55826598-704c-40e1-edeb-af4b02e1642e"
      },
      "execution_count": 25,
      "outputs": [
        {
          "output_type": "stream",
          "name": "stdout",
          "text": [
            "tensor1=tensor(1., requires_grad=True)\n",
            "tensor2=tensor([1., 2., 3.], requires_grad=True)\n"
          ]
        }
      ]
    },
    {
      "cell_type": "markdown",
      "source": [
        "Для того, щоб вказати аби тензор не мав градієнта, використовують функцію `detach`"
      ],
      "metadata": {
        "id": "ELiBwBZYoF7S"
      }
    },
    {
      "cell_type": "code",
      "source": [
        "tensor2.detach()"
      ],
      "metadata": {
        "colab": {
          "base_uri": "https://localhost:8080/"
        },
        "id": "KRWFt8lWjSB6",
        "outputId": "c0575e7c-6a86-47ef-cf99-72e2725f09e2"
      },
      "execution_count": 26,
      "outputs": [
        {
          "output_type": "execute_result",
          "data": {
            "text/plain": [
              "tensor([1., 2., 3.])"
            ]
          },
          "metadata": {},
          "execution_count": 26
        }
      ]
    },
    {
      "cell_type": "markdown",
      "source": [
        "## Граф обчислень"
      ],
      "metadata": {
        "id": "UVJBfaSmqCVy"
      }
    },
    {
      "cell_type": "markdown",
      "source": [
        "Граф обчислень в PyTorch - це\n",
        "динамічна структура даних,\n",
        "що використовується\n",
        "для представлення\n",
        "операцій для обчислення градієнтів"
      ],
      "metadata": {
        "id": "08Y0g4Zpr2ht"
      }
    },
    {
      "cell_type": "code",
      "source": [
        "x = torch.tensor(2., requires_grad=True)\n",
        "y = torch.tensor(3., requires_grad=True)\n",
        "z = torch.tensor(4., requires_grad=True)\n",
        "\n",
        "out = z*(x + y)"
      ],
      "metadata": {
        "id": "WLXK7-KSjR7M"
      },
      "execution_count": 28,
      "outputs": []
    },
    {
      "cell_type": "code",
      "source": [
        "out"
      ],
      "metadata": {
        "colab": {
          "base_uri": "https://localhost:8080/"
        },
        "id": "yEX7oKXKqqla",
        "outputId": "b52b3afc-4ddf-43b3-ffed-02bf50eda9bd"
      },
      "execution_count": 29,
      "outputs": [
        {
          "output_type": "execute_result",
          "data": {
            "text/plain": [
              "tensor(20., grad_fn=<MulBackward0>)"
            ]
          },
          "metadata": {},
          "execution_count": 29
        }
      ]
    },
    {
      "cell_type": "code",
      "source": [
        "!pip install -q torchviz"
      ],
      "metadata": {
        "id": "ZhMODqK4ql_4"
      },
      "execution_count": null,
      "outputs": []
    },
    {
      "cell_type": "code",
      "source": [
        "from torchviz import make_dot\n",
        "\n",
        "dot = make_dot(out, params={'x': x, 'y':y, 'z':z, 'out':out})\n",
        "dot"
      ],
      "metadata": {
        "id": "i1XX0pL0jRyJ"
      },
      "execution_count": null,
      "outputs": []
    },
    {
      "cell_type": "markdown",
      "source": [
        "\n",
        "## Алгоритм градієнтного спуску\n",
        "\n",
        "1. **Ініціалізація:**\n",
        "  Виберіть початкове\n",
        "  значення $x^{(0)}$.\n",
        "2. **Ітерація:**\n",
        "    * Розрахуйте градієнт $\\nabla f(x^{(k)})$\n",
        "      в поточній точці $x^{(k)}$.\n",
        "    * Зробіть крок\n",
        "      в **протилежному**\n",
        "      до градієнта\n",
        "      напрямку:\n",
        "      \n",
        "      $x^{(k+1)} = x^{(k)} - \\alpha \\nabla f(x^{(k)})$\n",
        "      \n",
        "      **Де:**\n",
        "      \n",
        "      * $\\alpha$ - **швидкість**\n",
        "        навчання\n",
        "    * Повторіть\n",
        "      кроки 2.1\n",
        "      та 2.2\n",
        "      до\n",
        "      зближення\n",
        "      з\n",
        "      мінімумом.\n",
        "\n",
        "![](https://ml-explained.com/articles/gradient-descent-explained/gradient_descent.gif)\n",
        "\n",
        "![](https://upload.wikimedia.org/wikipedia/commons/a/a3/Gradient_descent.gif)"
      ],
      "metadata": {
        "id": "WeFnPnnUhHbw"
      }
    },
    {
      "cell_type": "code",
      "source": [
        "def f(x):  # функція для мінімізації\n",
        "  return x**2 - 3*x + 4"
      ],
      "metadata": {
        "id": "UlWFr6f-kYRI"
      },
      "execution_count": 30,
      "outputs": []
    },
    {
      "cell_type": "code",
      "source": [
        "# підкоючаємо процесор\n",
        "device = \"cuda\" if torch.cuda.is_available() else \"cpu\"\n",
        "torch.set_default_device(device)\n",
        "\n",
        "# вибираємо початкове значення\n",
        "x = torch.tensor(2.0, requires_grad=True)\n",
        "\n",
        "# швидкість навчання\n",
        "learning_rate = 1e-3\n",
        "\n",
        "for t in range(2000):\n",
        "    # обчислюємо функцію яку потрібно мінімізувати\n",
        "    loss = f(x)\n",
        "\n",
        "    # обчислюємо всі потрібні градієнти\n",
        "    loss.backward()\n",
        "\n",
        "    # вивід значення функції\n",
        "    if t % 100 == 0:\n",
        "      print(f'loss={loss.item()}')\n",
        "\n",
        "    with torch.no_grad():\n",
        "      x -= learning_rate * x.grad\n",
        "\n",
        "      # очищуємо пам'ять для повторного обчислення градієнтів\n",
        "      x.grad = None"
      ],
      "metadata": {
        "colab": {
          "base_uri": "https://localhost:8080/"
        },
        "id": "83XZTwtmiT59",
        "outputId": "2e7ba2f6-bd42-4b8a-e5c0-5f9d073a6bbb"
      },
      "execution_count": 31,
      "outputs": [
        {
          "output_type": "stream",
          "name": "stdout",
          "text": [
            "loss=2.0\n",
            "loss=1.917513132095337\n",
            "loss=1.8622424602508545\n",
            "loss=1.8252077102661133\n",
            "loss=1.8003933429718018\n",
            "loss=1.783766269683838\n",
            "loss=1.772625207901001\n",
            "loss=1.765160083770752\n",
            "loss=1.760157823562622\n",
            "loss=1.7568061351776123\n",
            "loss=1.7545607089996338\n",
            "loss=1.7530560493469238\n",
            "loss=1.7520473003387451\n",
            "loss=1.7513718605041504\n",
            "loss=1.7509193420410156\n",
            "loss=1.7506158351898193\n",
            "loss=1.7504124641418457\n",
            "loss=1.7502765655517578\n",
            "loss=1.750185251235962\n",
            "loss=1.750124454498291\n"
          ]
        }
      ]
    },
    {
      "cell_type": "code",
      "source": [
        "import matplotlib.pyplot as plt\n",
        "\n",
        "xs = torch.linspace(-3, 5, 100)\n",
        "plt.plot(xs.cpu(), f(xs).cpu(), label='f(x)')\n",
        "plt.scatter(x.item(), f(x).item(), c='red', label='min')\n",
        "plt.legend()"
      ],
      "metadata": {
        "colab": {
          "base_uri": "https://localhost:8080/",
          "height": 447
        },
        "id": "Si7zLPdGlL6y",
        "outputId": "6406a9ea-ef13-4396-883d-b3fba419cb33"
      },
      "execution_count": 34,
      "outputs": [
        {
          "output_type": "execute_result",
          "data": {
            "text/plain": [
              "<matplotlib.legend.Legend at 0x7c5e822c9f00>"
            ]
          },
          "metadata": {},
          "execution_count": 34
        },
        {
          "output_type": "display_data",
          "data": {
            "text/plain": [
              "<Figure size 640x480 with 1 Axes>"
            ],
            "image/png": "[encoded data removed]"
          },
          "metadata": {}
        }
      ]
    },
    {
      "cell_type": "code",
      "source": [],
      "metadata": {
        "id": "rGS44lN1Kk8T"
      },
      "execution_count": null,
      "outputs": []
    }
  ]
}